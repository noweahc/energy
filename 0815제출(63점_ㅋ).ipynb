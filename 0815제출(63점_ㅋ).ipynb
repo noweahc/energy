{
  "nbformat": 4,
  "nbformat_minor": 0,
  "metadata": {
    "colab": {
      "provenance": [],
      "include_colab_link": true
    },
    "kernelspec": {
      "name": "python3",
      "display_name": "Python 3"
    },
    "language_info": {
      "name": "python"
    }
  },
  "cells": [
    {
      "cell_type": "markdown",
      "metadata": {
        "id": "view-in-github",
        "colab_type": "text"
      },
      "source": [
        "<a href=\"https://colab.research.google.com/github/noweahc/energy/blob/main/0815%EC%A0%9C%EC%B6%9C(63%EC%A0%90_%E3%85%8B).ipynb\" target=\"_parent\"><img src=\"https://colab.research.google.com/assets/colab-badge.svg\" alt=\"Open In Colab\"/></a>"
      ]
    },
    {
      "cell_type": "code",
      "source": [
        "import pandas as pd\n",
        "import matplotlib.pyplot as plt\n",
        "import seaborn as sns\n",
        "import random\n",
        "import numpy as np\n",
        "from tqdm import tqdm\n",
        "import xgboost\n"
      ],
      "metadata": {
        "id": "LDEjUjOdjTUt"
      },
      "execution_count": 34,
      "outputs": []
    },
    {
      "cell_type": "code",
      "source": [
        "pip install sktime"
      ],
      "metadata": {
        "colab": {
          "base_uri": "https://localhost:8080/"
        },
        "id": "G-WRSajq6xTX",
        "outputId": "54653a0d-ae8e-445c-b611-12da4fa432cd"
      },
      "execution_count": 20,
      "outputs": [
        {
          "output_type": "stream",
          "name": "stdout",
          "text": [
            "Collecting sktime\n",
            "  Downloading sktime-0.21.0-py3-none-any.whl (17.1 MB)\n",
            "\u001b[2K     \u001b[90m━━━━━━━━━━━━━━━━━━━━━━━━━━━━━━━━━━━━━━━━\u001b[0m \u001b[32m17.1/17.1 MB\u001b[0m \u001b[31m35.4 MB/s\u001b[0m eta \u001b[36m0:00:00\u001b[0m\n",
            "\u001b[?25hCollecting deprecated>=1.2.13 (from sktime)\n",
            "  Downloading Deprecated-1.2.14-py2.py3-none-any.whl (9.6 kB)\n",
            "Requirement already satisfied: numpy<1.26,>=1.21.0 in /usr/local/lib/python3.10/dist-packages (from sktime) (1.23.5)\n",
            "Requirement already satisfied: pandas<2.1.0,>=1.1.0 in /usr/local/lib/python3.10/dist-packages (from sktime) (1.5.3)\n",
            "Requirement already satisfied: packaging in /usr/local/lib/python3.10/dist-packages (from sktime) (23.1)\n",
            "Collecting scikit-base<0.6.0 (from sktime)\n",
            "  Downloading scikit_base-0.5.1-py3-none-any.whl (118 kB)\n",
            "\u001b[2K     \u001b[90m━━━━━━━━━━━━━━━━━━━━━━━━━━━━━━━━━━━━━━\u001b[0m \u001b[32m118.7/118.7 kB\u001b[0m \u001b[31m12.8 MB/s\u001b[0m eta \u001b[36m0:00:00\u001b[0m\n",
            "\u001b[?25hRequirement already satisfied: scikit-learn<1.4.0,>=0.24.0 in /usr/local/lib/python3.10/dist-packages (from sktime) (1.2.2)\n",
            "Requirement already satisfied: scipy<2.0.0,>=1.2.0 in /usr/local/lib/python3.10/dist-packages (from sktime) (1.10.1)\n",
            "Requirement already satisfied: wrapt<2,>=1.10 in /usr/local/lib/python3.10/dist-packages (from deprecated>=1.2.13->sktime) (1.14.1)\n",
            "Requirement already satisfied: python-dateutil>=2.8.1 in /usr/local/lib/python3.10/dist-packages (from pandas<2.1.0,>=1.1.0->sktime) (2.8.2)\n",
            "Requirement already satisfied: pytz>=2020.1 in /usr/local/lib/python3.10/dist-packages (from pandas<2.1.0,>=1.1.0->sktime) (2023.3)\n",
            "Requirement already satisfied: joblib>=1.1.1 in /usr/local/lib/python3.10/dist-packages (from scikit-learn<1.4.0,>=0.24.0->sktime) (1.3.2)\n",
            "Requirement already satisfied: threadpoolctl>=2.0.0 in /usr/local/lib/python3.10/dist-packages (from scikit-learn<1.4.0,>=0.24.0->sktime) (3.2.0)\n",
            "Requirement already satisfied: six>=1.5 in /usr/local/lib/python3.10/dist-packages (from python-dateutil>=2.8.1->pandas<2.1.0,>=1.1.0->sktime) (1.16.0)\n",
            "Installing collected packages: scikit-base, deprecated, sktime\n",
            "Successfully installed deprecated-1.2.14 scikit-base-0.5.1 sktime-0.21.0\n"
          ]
        }
      ]
    },
    {
      "cell_type": "code",
      "source": [
        "from sklearn.ensemble import RandomForestRegressor\n",
        "from xgboost import XGBRegressor\n",
        "from sklearn.model_selection import GridSearchCV\n",
        "from sktime.forecasting.model_selection import temporal_train_test_split"
      ],
      "metadata": {
        "id": "aRd6BnXWCqvW"
      },
      "execution_count": 21,
      "outputs": []
    },
    {
      "cell_type": "code",
      "source": [
        "def seed_everything(seed):\n",
        "    random.seed(seed)\n",
        "    os.environ['PYTHONHASHSEED'] = str(seed)\n",
        "    np.random.seed(seed)\n",
        "\n",
        "seed_everything(42) # Seed 고정"
      ],
      "metadata": {
        "id": "oFg08k8HCi9o"
      },
      "execution_count": 3,
      "outputs": []
    },
    {
      "cell_type": "code",
      "source": [
        "from google.colab import drive\n",
        "drive.mount('/content/drive')"
      ],
      "metadata": {
        "colab": {
          "base_uri": "https://localhost:8080/"
        },
        "id": "a5crZipPd51b",
        "outputId": "24d7e533-68b2-4f22-83e7-8bf25856dfed"
      },
      "execution_count": 4,
      "outputs": [
        {
          "output_type": "stream",
          "name": "stdout",
          "text": [
            "Mounted at /content/drive\n"
          ]
        }
      ]
    },
    {
      "cell_type": "code",
      "source": [
        "train = pd.read_csv('/content/drive/MyDrive/23energy/23data/train.csv',encoding = 'utf-8')\n",
        "test = pd.read_csv('/content/drive/MyDrive/23energy/23data/test.csv',encoding = 'utf-8')\n",
        "building = pd.read_csv('/content/drive/MyDrive/23energy/23data/building_info.csv',encoding = 'utf-8')"
      ],
      "metadata": {
        "id": "Tykt2JQNjD4L"
      },
      "execution_count": 5,
      "outputs": []
    },
    {
      "cell_type": "code",
      "source": [
        "train = train.rename(columns={\n",
        "    '건물번호': 'num',\n",
        "    '일시': 'date_time',\n",
        "    '기온(C)': 'gion',\n",
        "    '강수량(mm)': 'rain',\n",
        "    '풍속(m/s)': 'wind',\n",
        "    '습도(%)': 'hum',\n",
        "    '일조(hr)': 'iljo',\n",
        "    '일사(MJ/m2)': 'ilsa',\n",
        "    '전력소비량(kWh)': 'power'\n",
        "})\n",
        "train.drop('num_date_time', axis = 1, inplace=True)"
      ],
      "metadata": {
        "id": "SNCAO2ncqg1y"
      },
      "execution_count": 6,
      "outputs": []
    },
    {
      "cell_type": "code",
      "source": [
        "test = test.rename(columns={\n",
        "    '건물번호': 'num',\n",
        "    '일시': 'date_time',\n",
        "    '기온(C)': 'gion',\n",
        "    '강수량(mm)': 'rain',\n",
        "    '풍속(m/s)': 'wind',\n",
        "    '습도(%)': 'hum',\n",
        "    '일조(hr)': 'iljo',\n",
        "    '일사(MJ/m2)': 'ilsa',\n",
        "    '전력소비량(kWh)': 'power'\n",
        "})\n",
        "test.drop('num_date_time', axis = 1, inplace=True)"
      ],
      "metadata": {
        "id": "JJF6LIXIrOWk"
      },
      "execution_count": 7,
      "outputs": []
    },
    {
      "cell_type": "code",
      "source": [
        "building = building.rename(columns={\n",
        "    '건물번호': 'num',\n",
        "    '건물유형': 'type',\n",
        "    '연면적(m2)': 'total_area',\n",
        "    '냉방면적(m2)': 'cooling_area',\n",
        "    '태양광용량(kW)': 'solar',\n",
        "    'ESS저장용량(kWh)': 'ess',\n",
        "    'PCS용량(kW)': 'pcs'\n",
        "})"
      ],
      "metadata": {
        "id": "7rE_7C-60qGq"
      },
      "execution_count": 8,
      "outputs": []
    },
    {
      "cell_type": "code",
      "source": [
        "train = pd.merge(train, building, on='num', how='left')\n",
        "test = pd.merge(test, building, on='num', how='left')"
      ],
      "metadata": {
        "id": "AxX0O2y1jliB"
      },
      "execution_count": 9,
      "outputs": []
    },
    {
      "cell_type": "code",
      "source": [
        "def make_time(train):\n",
        "    \"\"\"\n",
        "    시간 관련 변수를 추가하기 위한 함수\n",
        "    \"\"\"\n",
        "    train['date_time'] = pd.to_datetime(train.date_time)\n",
        "\n",
        "    train['month'] = train.date_time.dt.month                    # 월(숫자)\n",
        "    train['day'] = train.date_time.dt.day                        # 일(숫자)\n",
        "    train['hour'] = train.date_time.dt.hour                      # 시(숫자)\n",
        "    train['weekday'] = train.date_time.dt.weekday                # 요일(숫자)\n",
        "    train['dayofyear'] = train.date_time.dt.dayofyear            # 연 기준 몇일째(숫자)\n",
        "    train['monthday'] = train.date_time.dt.strftime('%m%d')      # 월일\n",
        "\n",
        "    return train"
      ],
      "metadata": {
        "id": "hRahQ380CXjq"
      },
      "execution_count": 10,
      "outputs": []
    },
    {
      "cell_type": "code",
      "source": [
        "train = make_time(train)\n",
        "test = make_time(test)"
      ],
      "metadata": {
        "id": "RtpgOLT-8yaa"
      },
      "execution_count": 11,
      "outputs": []
    },
    {
      "cell_type": "code",
      "source": [
        "# 문자열을 실수형으로 변환하고 \"-\"을 0으로 대체합니다.\n",
        "train[\"solar\"] = train[\"solar\"].apply(lambda x: float(x) if x != \"-\" else 0)\n",
        "train[\"ess\"] = train[\"ess\"].apply(lambda x: float(x) if x != \"-\" else 0)\n",
        "train[\"pcs\"] = train[\"pcs\"].apply(lambda x: float(x) if x != \"-\" else 0)\n",
        "\n",
        "# 문자열을 실수형으로 변환하고 \"-\"을 0으로 대체합니다.\n",
        "test[\"solar\"] = test[\"solar\"].apply(lambda x: float(x) if x != \"-\" else 0)\n",
        "test[\"ess\"] = test[\"ess\"].apply(lambda x: float(x) if x != \"-\" else 0)\n",
        "test[\"pcs\"] = test[\"pcs\"].apply(lambda x: float(x) if x != \"-\" else 0)"
      ],
      "metadata": {
        "id": "YcP8dnfRC0fN"
      },
      "execution_count": 12,
      "outputs": []
    },
    {
      "cell_type": "code",
      "source": [
        "#토요일, 일요일은 주말로 처리\n",
        "#전국동시지방선거일, 현충일, 광복절도 주말로 처리\n",
        "\n",
        "train.loc[train.weekday >= 5, 'holiday'] = 1\n",
        "train.loc[(train.weekday < 5), 'holiday'] = 0\n",
        "\n",
        "#train.loc[train.monthday == '0601', 'holiday'] = 1\n",
        "#train.loc[train.monthday == '0606', 'holiday'] = 1\n",
        "#train.loc[train.monthday == '0815', 'holiday'] = 1\n",
        "train.loc[train['monthday'].isin(['0601', '0606', '0815']), 'holiday'] = 1\n",
        "\n",
        "test.loc[test.weekday >= 5, 'holiday'] = 1\n",
        "test.loc[test.weekday < 5, 'holiday'] = 0"
      ],
      "metadata": {
        "id": "_0oKGbwICp9X"
      },
      "execution_count": 13,
      "outputs": []
    },
    {
      "cell_type": "code",
      "source": [
        "#건물유형 숫자로 처리하는 라벨인코딩\n",
        "\n",
        "label_mapping = {\n",
        "    '건물기타': 0,\n",
        "    '공공': 1,\n",
        "    '대학교': 2,\n",
        "    '데이터센터': 3,\n",
        "    '백화점및아울렛': 4,\n",
        "    '병원': 5,\n",
        "    '상용': 6,\n",
        "    '아파트': 7,\n",
        "    '연구소': 8,\n",
        "    '지식산업센터': 9,\n",
        "    '할인마트': 10,\n",
        "    '호텔및리조트': 11\n",
        "}\n",
        "\n",
        "train['type'] = train['type'].replace(label_mapping)\n",
        "test['type'] = test['type'].replace(label_mapping)"
      ],
      "metadata": {
        "id": "B-vWQx3fsnud"
      },
      "execution_count": 14,
      "outputs": []
    },
    {
      "cell_type": "code",
      "source": [
        "#파생변수 : 체감온도\n",
        "train['sensory_temp'] = 13.12 + 0.6215 * train['gion'] - 11.37 * (train['wind'] ** 0.16) + 0.3965 * (train['wind'] ** 0.16) * train['gion']\n",
        "test['sensory_temp'] = 13.12 + 0.6215 * test['gion'] - 11.37 * (test['wind'] ** 0.16) + 0.3965 * (test['wind'] ** 0.16) * test['gion']"
      ],
      "metadata": {
        "id": "7dPaDo6QDhD3"
      },
      "execution_count": 15,
      "outputs": []
    },
    {
      "cell_type": "code",
      "source": [
        "#https://dacon.io/competitions/official/235680/codeshare/2366?page=1&dtype=recent\n",
        "#아이디어 참고\n",
        "#시간의 순환적 성격 반영하기\n",
        "\n",
        "train['sin_time'] = np.sin(2*np.pi*train.hour/24)\n",
        "train['cos_time'] = np.cos(2*np.pi*train.hour/24)\n",
        "\n",
        "test['sin_time'] = np.sin(2*np.pi*test.hour/24)\n",
        "test['cos_time'] = np.cos(2*np.pi*test.hour/24)"
      ],
      "metadata": {
        "id": "SfvnEKbmt2B-"
      },
      "execution_count": 16,
      "outputs": []
    },
    {
      "cell_type": "code",
      "source": [
        "#https://dacon.io/competitions/official/235736/codeshare/2743?page=1&dtype=recent\n",
        "#아이디어 참고\n",
        "#기온과 습도를 고려한 불쾌지수(THI)\n",
        "#CDH(Cooling Degree Hour) : 기온이 실제 냉방 가동에 이르기까지의 시간적 오차를 고려\n",
        "\n",
        "train['THI'] = 9/5*train['gion'] - 0.55*(1-train['hum']/100)*(9/5*train['hum']-26)+32\n",
        "test['THI'] = 9/5*test['gion'] - 0.55*(1-test['hum']/100)*(9/5*test['hum']-26)+32\n",
        "\n",
        "def CDH(xs):\n",
        "    ys = []\n",
        "    for i in range(len(xs)):\n",
        "        if i < 11:\n",
        "            ys.append(np.sum(xs[:(i+1)]-26))\n",
        "        else:\n",
        "            ys.append(np.sum(xs[(i-11):(i+1)]-26))\n",
        "    return np.array(ys)\n",
        "\n",
        "cdhs = np.array([])\n",
        "for num in range(1,101,1):\n",
        "    temp = train[train['num'] == num]\n",
        "    cdh = CDH(temp['gion'].values)\n",
        "    cdhs = np.concatenate([cdhs, cdh])\n",
        "train['CDH'] = cdhs\n",
        "\n",
        "cdhs = np.array([])\n",
        "for num in range(1,101,1):\n",
        "    temp = test[test['num'] == num]\n",
        "    cdh = CDH(temp['gion'].values)\n",
        "    cdhs = np.concatenate([cdhs, cdh])\n",
        "test['CDH'] = cdhs"
      ],
      "metadata": {
        "id": "0RsqMXrZuR0Z"
      },
      "execution_count": 17,
      "outputs": []
    },
    {
      "cell_type": "code",
      "source": [
        "#성능 평가 지표 : weighted_mse\n",
        "#### alpha를 argument로 받는 함수로 실제 objective function을 wrapping하여 alpha값을 쉽게 조정할 수 있도록 작성했습니다.\n",
        "# custom objective function for forcing model not to underestimate\n",
        "def weighted_mse(alpha = 1):\n",
        "    def weighted_mse_fixed(label, pred):\n",
        "        residual = (label - pred).astype(\"float\")\n",
        "        grad = np.where(residual>0, -2*alpha*residual, -2*residual)\n",
        "        hess = np.where(residual>0, 2*alpha, 2.0)\n",
        "        return grad, hess\n",
        "    return weighted_mse_fixed"
      ],
      "metadata": {
        "id": "TT-0LRb67YJ1"
      },
      "execution_count": 23,
      "outputs": []
    },
    {
      "cell_type": "code",
      "source": [
        "def SMAPE(true, pred):\n",
        "    return np.mean((np.abs(true-pred))/(np.abs(true) + np.abs(pred))) * 100"
      ],
      "metadata": {
        "id": "bIdtwCor7fXa"
      },
      "execution_count": 24,
      "outputs": []
    },
    {
      "cell_type": "code",
      "source": [
        "train.drop(['date_time','rain','iljo','ilsa','solar','ess','pcs','hour','monthday'], axis = 1, inplace = True)\n",
        "test.drop(['date_time','rain','solar','ess','pcs','hour','monthday'], axis = 1, inplace = True)"
      ],
      "metadata": {
        "id": "6ihJZrNz7m1w"
      },
      "execution_count": 26,
      "outputs": []
    },
    {
      "cell_type": "code",
      "source": [
        "#best iteration 찾기 : 하이퍼파라미터 후보 df인 xgb_params에 저장하면 됨\n",
        "scores = []   # smape 값을 저장할 list\n",
        "best_it = []  # best interation을 저장할 list\n",
        "for i in tqdm(range(100)):\n",
        "    y = train.loc[train.num== i+1, 'power']\n",
        "    x = train.loc[train.num == i+1, ].iloc[:, 3:]\n",
        "    y_train, y_valid, x_train, x_valid = temporal_train_test_split(y = y, X = x, test_size = 168)\n",
        "\n",
        "    xgb_model = xgboost.XGBRegressor(n_estimators=100, learning_rate=0.08, gamma=0, subsample=0.75,\n",
        "                           colsample_bytree=1, max_depth=7)\n",
        "\n",
        "    xgb_model.set_params(**{'objective':weighted_mse(100)}) # alpha = 100으로 고정\n",
        "\n",
        "    xgb_model.fit(x_train, y_train, eval_set=[(x_train, y_train),\n",
        "                                            (x_valid, y_valid)], early_stopping_rounds=300, verbose=False)\n",
        "    y_pred = xgb_model.predict(x_valid)\n",
        "    pred = pd.Series(y_pred)\n",
        "\n",
        "    sm = SMAPE(y_valid, y_pred)\n",
        "    scores.append(sm)\n",
        "    best_it.append(xgb_model.best_iteration) ## 실제 best iteration은 이 값에 +1 해주어야 함."
      ],
      "metadata": {
        "colab": {
          "base_uri": "https://localhost:8080/"
        },
        "id": "eWoWQp9A72yL",
        "outputId": "d7eaae1f-bc15-4d84-8f12-d48a82b8f2a5"
      },
      "execution_count": 36,
      "outputs": [
        {
          "output_type": "stream",
          "name": "stderr",
          "text": [
            "\r  0%|          | 0/100 [00:00<?, ?it/s]/usr/local/lib/python3.10/dist-packages/xgboost/sklearn.py:835: UserWarning: `early_stopping_rounds` in `fit` method is deprecated for better compatibility with scikit-learn, use `early_stopping_rounds` in constructor or`set_params` instead.\n",
            "  warnings.warn(\n",
            "100%|██████████| 100/100 [01:16<00:00,  1.30it/s]\n"
          ]
        }
      ]
    },
    {
      "cell_type": "code",
      "source": [
        "#weighted MSE의 alpha값 튜닝단계 : 하이퍼파라미터 후보 df인 xgb_params에 저장하면됨\n",
        "alpha_list = []\n",
        "smape_list = []\n",
        "for i in tqdm(range(100)):\n",
        "    y = train.loc[train.num == i+1, 'power']\n",
        "    x = train.loc[train.num == i+1, ].iloc[:, 3:]\n",
        "    y_train, y_test, x_train, x_test = temporal_train_test_split(y = y, X = x, test_size = 168)\n",
        "    xgb_model = xgboost.XGBRegressor(n_estimators=100, learning_rate=0.08, gamma=0, subsample=0.75,\n",
        "                           colsample_bytree=1, max_depth=7)\n",
        "\n",
        "    xgb_model.fit(x_train, y_train)\n",
        "    pred0 = xgb_model.predict(x_test)\n",
        "    best_alpha = 0\n",
        "    score0 = SMAPE(y_test,pred0)\n",
        "\n",
        "    for j in [1, 3, 5, 7, 10, 25, 50, 75, 100]:\n",
        "        xgb_model = xgboost.XGBRegressor(n_estimators=100, learning_rate=0.08, gamma=0, subsample=0.75,\n",
        "                           colsample_bytree=1, max_depth=7)\n",
        "        xgb_model.set_params(**{'objective' : weighted_mse(j)})\n",
        "\n",
        "        xgb_model.fit(x_train, y_train)\n",
        "        pred1 = xgb_model.predict(x_test)\n",
        "        score1 = SMAPE(y_test, pred1)\n",
        "        if score1 < score0:\n",
        "            best_alpha = j\n",
        "            score0 = score1\n",
        "\n",
        "    alpha_list.append(best_alpha)\n",
        "    smape_list.append(score0)\n",
        "    print(\"building {} || best score : {} || alpha : {}\".format(i+1, score0, best_alpha))"
      ],
      "metadata": {
        "colab": {
          "base_uri": "https://localhost:8080/"
        },
        "id": "ktW-CTBD9IJ7",
        "outputId": "d6288c18-080c-46b6-ee11-56bed7df5726"
      },
      "execution_count": 37,
      "outputs": [
        {
          "output_type": "stream",
          "name": "stderr",
          "text": [
            "  1%|          | 1/100 [00:08<14:13,  8.62s/it]"
          ]
        },
        {
          "output_type": "stream",
          "name": "stdout",
          "text": [
            "building 1 || best score : 0.024593073735724086 || alpha : 100\n"
          ]
        },
        {
          "output_type": "stream",
          "name": "stderr",
          "text": [
            "\r  2%|▏         | 2/100 [00:13<10:22,  6.35s/it]"
          ]
        },
        {
          "output_type": "stream",
          "name": "stdout",
          "text": [
            "building 2 || best score : 0.025594065433553255 || alpha : 100\n"
          ]
        },
        {
          "output_type": "stream",
          "name": "stderr",
          "text": [
            "\r  3%|▎         | 3/100 [00:18<09:07,  5.65s/it]"
          ]
        },
        {
          "output_type": "stream",
          "name": "stdout",
          "text": [
            "building 3 || best score : 0.027891955856816024 || alpha : 100\n"
          ]
        },
        {
          "output_type": "stream",
          "name": "stderr",
          "text": [
            "\r  4%|▍         | 4/100 [00:26<10:38,  6.65s/it]"
          ]
        },
        {
          "output_type": "stream",
          "name": "stdout",
          "text": [
            "building 4 || best score : 0.022408321184390623 || alpha : 100\n"
          ]
        },
        {
          "output_type": "stream",
          "name": "stderr",
          "text": [
            "\r  5%|▌         | 5/100 [00:31<09:36,  6.07s/it]"
          ]
        },
        {
          "output_type": "stream",
          "name": "stdout",
          "text": [
            "building 5 || best score : 0.028917455395777246 || alpha : 100\n"
          ]
        },
        {
          "output_type": "stream",
          "name": "stderr",
          "text": [
            "\r  6%|▌         | 6/100 [00:43<12:30,  7.98s/it]"
          ]
        },
        {
          "output_type": "stream",
          "name": "stdout",
          "text": [
            "building 6 || best score : 0.02426139600688384 || alpha : 100\n"
          ]
        },
        {
          "output_type": "stream",
          "name": "stderr",
          "text": [
            "\r  7%|▋         | 7/100 [00:58<16:09, 10.43s/it]"
          ]
        },
        {
          "output_type": "stream",
          "name": "stdout",
          "text": [
            "building 7 || best score : 0.02474045778821683 || alpha : 50\n"
          ]
        },
        {
          "output_type": "stream",
          "name": "stderr",
          "text": [
            "\r  8%|▊         | 8/100 [01:10<16:28, 10.75s/it]"
          ]
        },
        {
          "output_type": "stream",
          "name": "stdout",
          "text": [
            "building 8 || best score : 0.014591518925317138 || alpha : 100\n"
          ]
        },
        {
          "output_type": "stream",
          "name": "stderr",
          "text": [
            "\r  9%|▉         | 9/100 [01:23<17:29, 11.53s/it]"
          ]
        },
        {
          "output_type": "stream",
          "name": "stdout",
          "text": [
            "building 9 || best score : 0.026257541185933805 || alpha : 100\n"
          ]
        },
        {
          "output_type": "stream",
          "name": "stderr",
          "text": [
            "\r 10%|█         | 10/100 [01:27<14:00,  9.34s/it]"
          ]
        },
        {
          "output_type": "stream",
          "name": "stdout",
          "text": [
            "building 10 || best score : 0.017172380903007798 || alpha : 75\n"
          ]
        },
        {
          "output_type": "stream",
          "name": "stderr",
          "text": [
            "\r 11%|█         | 11/100 [01:35<13:12,  8.90s/it]"
          ]
        },
        {
          "output_type": "stream",
          "name": "stdout",
          "text": [
            "building 11 || best score : 0.018857968065158326 || alpha : 75\n"
          ]
        },
        {
          "output_type": "stream",
          "name": "stderr",
          "text": [
            "\r 12%|█▏        | 12/100 [01:40<11:07,  7.59s/it]"
          ]
        },
        {
          "output_type": "stream",
          "name": "stdout",
          "text": [
            "building 12 || best score : 0.017646144121592065 || alpha : 100\n"
          ]
        },
        {
          "output_type": "stream",
          "name": "stderr",
          "text": [
            "\r 13%|█▎        | 13/100 [01:44<09:41,  6.69s/it]"
          ]
        },
        {
          "output_type": "stream",
          "name": "stdout",
          "text": [
            "building 13 || best score : 0.01566032940238986 || alpha : 100\n"
          ]
        },
        {
          "output_type": "stream",
          "name": "stderr",
          "text": [
            "\r 14%|█▍        | 14/100 [01:52<10:11,  7.11s/it]"
          ]
        },
        {
          "output_type": "stream",
          "name": "stdout",
          "text": [
            "building 14 || best score : 0.02274831489975422 || alpha : 100\n"
          ]
        },
        {
          "output_type": "stream",
          "name": "stderr",
          "text": [
            "\r 15%|█▌        | 15/100 [01:58<09:15,  6.53s/it]"
          ]
        },
        {
          "output_type": "stream",
          "name": "stdout",
          "text": [
            "building 15 || best score : 0.018539330468638027 || alpha : 100\n"
          ]
        },
        {
          "output_type": "stream",
          "name": "stderr",
          "text": [
            "\r 16%|█▌        | 16/100 [02:06<09:58,  7.12s/it]"
          ]
        },
        {
          "output_type": "stream",
          "name": "stdout",
          "text": [
            "building 16 || best score : 0.028015954690083618 || alpha : 100\n"
          ]
        },
        {
          "output_type": "stream",
          "name": "stderr",
          "text": [
            "\r 17%|█▋        | 17/100 [02:11<08:52,  6.42s/it]"
          ]
        },
        {
          "output_type": "stream",
          "name": "stdout",
          "text": [
            "building 17 || best score : 0.029742014749274914 || alpha : 100\n"
          ]
        },
        {
          "output_type": "stream",
          "name": "stderr",
          "text": [
            "\r 18%|█▊        | 18/100 [02:19<09:28,  6.93s/it]"
          ]
        },
        {
          "output_type": "stream",
          "name": "stdout",
          "text": [
            "building 18 || best score : 0.025810079165088123 || alpha : 100\n"
          ]
        },
        {
          "output_type": "stream",
          "name": "stderr",
          "text": [
            "\r 19%|█▉        | 19/100 [02:24<08:31,  6.32s/it]"
          ]
        },
        {
          "output_type": "stream",
          "name": "stdout",
          "text": [
            "building 19 || best score : 0.023568579492431976 || alpha : 100\n"
          ]
        },
        {
          "output_type": "stream",
          "name": "stderr",
          "text": [
            "\r 20%|██        | 20/100 [02:32<09:09,  6.87s/it]"
          ]
        },
        {
          "output_type": "stream",
          "name": "stdout",
          "text": [
            "building 20 || best score : 0.02815418984216789 || alpha : 100\n"
          ]
        },
        {
          "output_type": "stream",
          "name": "stderr",
          "text": [
            "\r 21%|██        | 21/100 [02:37<08:11,  6.23s/it]"
          ]
        },
        {
          "output_type": "stream",
          "name": "stdout",
          "text": [
            "building 21 || best score : 0.023145955574485094 || alpha : 100\n"
          ]
        },
        {
          "output_type": "stream",
          "name": "stderr",
          "text": [
            "\r 22%|██▏       | 22/100 [02:45<08:57,  6.89s/it]"
          ]
        },
        {
          "output_type": "stream",
          "name": "stdout",
          "text": [
            "building 22 || best score : 0.01776668520652361 || alpha : 50\n"
          ]
        },
        {
          "output_type": "stream",
          "name": "stderr",
          "text": [
            "\r 23%|██▎       | 23/100 [02:50<08:04,  6.30s/it]"
          ]
        },
        {
          "output_type": "stream",
          "name": "stdout",
          "text": [
            "building 23 || best score : 0.016520721466160668 || alpha : 100\n"
          ]
        },
        {
          "output_type": "stream",
          "name": "stderr",
          "text": [
            "\r 24%|██▍       | 24/100 [02:59<08:57,  7.08s/it]"
          ]
        },
        {
          "output_type": "stream",
          "name": "stdout",
          "text": [
            "building 24 || best score : 0.023471482711169406 || alpha : 100\n"
          ]
        },
        {
          "output_type": "stream",
          "name": "stderr",
          "text": [
            "\r 25%|██▌       | 25/100 [03:07<09:14,  7.39s/it]"
          ]
        },
        {
          "output_type": "stream",
          "name": "stdout",
          "text": [
            "building 25 || best score : 0.01887395532787551 || alpha : 100\n"
          ]
        },
        {
          "output_type": "stream",
          "name": "stderr",
          "text": [
            "\r 26%|██▌       | 26/100 [03:16<09:29,  7.70s/it]"
          ]
        },
        {
          "output_type": "stream",
          "name": "stdout",
          "text": [
            "building 26 || best score : 0.02223219986980767 || alpha : 100\n"
          ]
        },
        {
          "output_type": "stream",
          "name": "stderr",
          "text": [
            "\r 27%|██▋       | 27/100 [03:20<08:12,  6.75s/it]"
          ]
        },
        {
          "output_type": "stream",
          "name": "stdout",
          "text": [
            "building 27 || best score : 0.020597455147339808 || alpha : 50\n"
          ]
        },
        {
          "output_type": "stream",
          "name": "stderr",
          "text": [
            "\r 28%|██▊       | 28/100 [03:28<08:37,  7.19s/it]"
          ]
        },
        {
          "output_type": "stream",
          "name": "stdout",
          "text": [
            "building 28 || best score : 0.02648825444052737 || alpha : 100\n"
          ]
        },
        {
          "output_type": "stream",
          "name": "stderr",
          "text": [
            "\r 29%|██▉       | 29/100 [03:33<07:36,  6.43s/it]"
          ]
        },
        {
          "output_type": "stream",
          "name": "stdout",
          "text": [
            "building 29 || best score : 0.020280620706045405 || alpha : 100\n"
          ]
        },
        {
          "output_type": "stream",
          "name": "stderr",
          "text": [
            "\r 30%|███       | 30/100 [03:41<08:08,  6.98s/it]"
          ]
        },
        {
          "output_type": "stream",
          "name": "stdout",
          "text": [
            "building 30 || best score : 0.04428824554012966 || alpha : 75\n"
          ]
        },
        {
          "output_type": "stream",
          "name": "stderr",
          "text": [
            "\r 31%|███       | 31/100 [03:46<07:15,  6.31s/it]"
          ]
        },
        {
          "output_type": "stream",
          "name": "stdout",
          "text": [
            "building 31 || best score : 0.023820043948070555 || alpha : 100\n"
          ]
        },
        {
          "output_type": "stream",
          "name": "stderr",
          "text": [
            "\r 32%|███▏      | 32/100 [03:50<06:20,  5.60s/it]"
          ]
        },
        {
          "output_type": "stream",
          "name": "stdout",
          "text": [
            "building 32 || best score : 0.01219985851392029 || alpha : 50\n"
          ]
        },
        {
          "output_type": "stream",
          "name": "stderr",
          "text": [
            "\r 33%|███▎      | 33/100 [03:57<06:46,  6.07s/it]"
          ]
        },
        {
          "output_type": "stream",
          "name": "stdout",
          "text": [
            "building 33 || best score : 0.012565249662921394 || alpha : 75\n"
          ]
        },
        {
          "output_type": "stream",
          "name": "stderr",
          "text": [
            "\r 34%|███▍      | 34/100 [04:01<06:00,  5.47s/it]"
          ]
        },
        {
          "output_type": "stream",
          "name": "stdout",
          "text": [
            "building 34 || best score : 0.014426825529521885 || alpha : 25\n"
          ]
        },
        {
          "output_type": "stream",
          "name": "stderr",
          "text": [
            "\r 35%|███▌      | 35/100 [04:08<06:29,  6.00s/it]"
          ]
        },
        {
          "output_type": "stream",
          "name": "stdout",
          "text": [
            "building 35 || best score : 0.012315827549102442 || alpha : 75\n"
          ]
        },
        {
          "output_type": "stream",
          "name": "stderr",
          "text": [
            "\r 36%|███▌      | 36/100 [04:12<05:41,  5.34s/it]"
          ]
        },
        {
          "output_type": "stream",
          "name": "stdout",
          "text": [
            "building 36 || best score : 0.011227091527374498 || alpha : 75\n"
          ]
        },
        {
          "output_type": "stream",
          "name": "stderr",
          "text": [
            "\r 37%|███▋      | 37/100 [04:17<05:27,  5.20s/it]"
          ]
        },
        {
          "output_type": "stream",
          "name": "stdout",
          "text": [
            "building 37 || best score : 0.025296220484290883 || alpha : 100\n"
          ]
        },
        {
          "output_type": "stream",
          "name": "stderr",
          "text": [
            "\r 38%|███▊      | 38/100 [04:25<06:19,  6.13s/it]"
          ]
        },
        {
          "output_type": "stream",
          "name": "stdout",
          "text": [
            "building 38 || best score : 0.027836172398989004 || alpha : 75\n"
          ]
        },
        {
          "output_type": "stream",
          "name": "stderr",
          "text": [
            "\r 39%|███▉      | 39/100 [04:30<05:50,  5.74s/it]"
          ]
        },
        {
          "output_type": "stream",
          "name": "stdout",
          "text": [
            "building 39 || best score : 0.027534208992948332 || alpha : 100\n"
          ]
        },
        {
          "output_type": "stream",
          "name": "stderr",
          "text": [
            "\r 40%|████      | 40/100 [04:39<06:32,  6.55s/it]"
          ]
        },
        {
          "output_type": "stream",
          "name": "stdout",
          "text": [
            "building 40 || best score : 0.033769314942675384 || alpha : 100\n"
          ]
        },
        {
          "output_type": "stream",
          "name": "stderr",
          "text": [
            "\r 41%|████      | 41/100 [04:43<05:56,  6.04s/it]"
          ]
        },
        {
          "output_type": "stream",
          "name": "stdout",
          "text": [
            "building 41 || best score : 0.031278112709916886 || alpha : 100\n"
          ]
        },
        {
          "output_type": "stream",
          "name": "stderr",
          "text": [
            "\r 42%|████▏     | 42/100 [04:52<06:35,  6.82s/it]"
          ]
        },
        {
          "output_type": "stream",
          "name": "stdout",
          "text": [
            "building 42 || best score : 0.03604199681579108 || alpha : 100\n"
          ]
        },
        {
          "output_type": "stream",
          "name": "stderr",
          "text": [
            "\r 43%|████▎     | 43/100 [04:57<05:58,  6.28s/it]"
          ]
        },
        {
          "output_type": "stream",
          "name": "stdout",
          "text": [
            "building 43 || best score : 0.03598187527077645 || alpha : 100\n"
          ]
        },
        {
          "output_type": "stream",
          "name": "stderr",
          "text": [
            "\r 44%|████▍     | 44/100 [05:05<06:24,  6.87s/it]"
          ]
        },
        {
          "output_type": "stream",
          "name": "stdout",
          "text": [
            "building 44 || best score : 0.030354044728381914 || alpha : 75\n"
          ]
        },
        {
          "output_type": "stream",
          "name": "stderr",
          "text": [
            "\r 45%|████▌     | 45/100 [05:10<05:39,  6.18s/it]"
          ]
        },
        {
          "output_type": "stream",
          "name": "stdout",
          "text": [
            "building 45 || best score : 0.017137184012669893 || alpha : 100\n"
          ]
        },
        {
          "output_type": "stream",
          "name": "stderr",
          "text": [
            "\r 46%|████▌     | 46/100 [05:18<06:06,  6.78s/it]"
          ]
        },
        {
          "output_type": "stream",
          "name": "stdout",
          "text": [
            "building 46 || best score : 0.0202092620134761 || alpha : 100\n"
          ]
        },
        {
          "output_type": "stream",
          "name": "stderr",
          "text": [
            "\r 47%|████▋     | 47/100 [05:23<05:22,  6.08s/it]"
          ]
        },
        {
          "output_type": "stream",
          "name": "stdout",
          "text": [
            "building 47 || best score : 0.018199533082909735 || alpha : 100\n"
          ]
        },
        {
          "output_type": "stream",
          "name": "stderr",
          "text": [
            "\r 48%|████▊     | 48/100 [05:27<04:52,  5.63s/it]"
          ]
        },
        {
          "output_type": "stream",
          "name": "stdout",
          "text": [
            "building 48 || best score : 0.020880565295447406 || alpha : 100\n"
          ]
        },
        {
          "output_type": "stream",
          "name": "stderr",
          "text": [
            "\r 49%|████▉     | 49/100 [05:35<05:23,  6.35s/it]"
          ]
        },
        {
          "output_type": "stream",
          "name": "stdout",
          "text": [
            "building 49 || best score : 0.020463350834259316 || alpha : 75\n"
          ]
        },
        {
          "output_type": "stream",
          "name": "stderr",
          "text": [
            "\r 50%|█████     | 50/100 [05:40<04:55,  5.91s/it]"
          ]
        },
        {
          "output_type": "stream",
          "name": "stdout",
          "text": [
            "building 50 || best score : 0.01939045147621631 || alpha : 100\n"
          ]
        },
        {
          "output_type": "stream",
          "name": "stderr",
          "text": [
            "\r 51%|█████     | 51/100 [05:48<05:21,  6.55s/it]"
          ]
        },
        {
          "output_type": "stream",
          "name": "stdout",
          "text": [
            "building 51 || best score : 0.02195106746612979 || alpha : 100\n"
          ]
        },
        {
          "output_type": "stream",
          "name": "stderr",
          "text": [
            "\r 52%|█████▏    | 52/100 [05:53<04:54,  6.13s/it]"
          ]
        },
        {
          "output_type": "stream",
          "name": "stdout",
          "text": [
            "building 52 || best score : 0.020360039837476758 || alpha : 75\n"
          ]
        },
        {
          "output_type": "stream",
          "name": "stderr",
          "text": [
            "\r 53%|█████▎    | 53/100 [06:02<05:18,  6.78s/it]"
          ]
        },
        {
          "output_type": "stream",
          "name": "stdout",
          "text": [
            "building 53 || best score : 0.029942794143241466 || alpha : 100\n"
          ]
        },
        {
          "output_type": "stream",
          "name": "stderr",
          "text": [
            "\r 54%|█████▍    | 54/100 [06:06<04:46,  6.23s/it]"
          ]
        },
        {
          "output_type": "stream",
          "name": "stdout",
          "text": [
            "building 54 || best score : 0.03466728419298132 || alpha : 100\n"
          ]
        },
        {
          "output_type": "stream",
          "name": "stderr",
          "text": [
            "\r 55%|█████▌    | 55/100 [06:14<05:00,  6.67s/it]"
          ]
        },
        {
          "output_type": "stream",
          "name": "stdout",
          "text": [
            "building 55 || best score : 0.013095883063575904 || alpha : 100\n"
          ]
        },
        {
          "output_type": "stream",
          "name": "stderr",
          "text": [
            "\r 56%|█████▌    | 56/100 [06:18<04:19,  5.90s/it]"
          ]
        },
        {
          "output_type": "stream",
          "name": "stdout",
          "text": [
            "building 56 || best score : 0.013863500704368526 || alpha : 100\n"
          ]
        },
        {
          "output_type": "stream",
          "name": "stderr",
          "text": [
            "\r 57%|█████▋    | 57/100 [06:23<04:00,  5.60s/it]"
          ]
        },
        {
          "output_type": "stream",
          "name": "stdout",
          "text": [
            "building 57 || best score : 0.027422605121461715 || alpha : 100\n"
          ]
        },
        {
          "output_type": "stream",
          "name": "stderr",
          "text": [
            "\r 58%|█████▊    | 58/100 [06:38<05:49,  8.33s/it]"
          ]
        },
        {
          "output_type": "stream",
          "name": "stdout",
          "text": [
            "building 58 || best score : 0.011813739700914093 || alpha : 100\n"
          ]
        },
        {
          "output_type": "stream",
          "name": "stderr",
          "text": [
            "\r 59%|█████▉    | 59/100 [06:48<06:08,  8.98s/it]"
          ]
        },
        {
          "output_type": "stream",
          "name": "stdout",
          "text": [
            "building 59 || best score : 0.0260174434381306 || alpha : 100\n"
          ]
        },
        {
          "output_type": "stream",
          "name": "stderr",
          "text": [
            "\r 60%|██████    | 60/100 [06:55<05:34,  8.37s/it]"
          ]
        },
        {
          "output_type": "stream",
          "name": "stdout",
          "text": [
            "building 60 || best score : 0.02479075872292346 || alpha : 50\n"
          ]
        },
        {
          "output_type": "stream",
          "name": "stderr",
          "text": [
            "\r 61%|██████    | 61/100 [07:07<05:59,  9.22s/it]"
          ]
        },
        {
          "output_type": "stream",
          "name": "stdout",
          "text": [
            "building 61 || best score : 0.026582919436373764 || alpha : 100\n"
          ]
        },
        {
          "output_type": "stream",
          "name": "stderr",
          "text": [
            "\r 62%|██████▏   | 62/100 [07:12<05:05,  8.03s/it]"
          ]
        },
        {
          "output_type": "stream",
          "name": "stdout",
          "text": [
            "building 62 || best score : 0.028779039366441998 || alpha : 100\n"
          ]
        },
        {
          "output_type": "stream",
          "name": "stderr",
          "text": [
            "\r 63%|██████▎   | 63/100 [07:24<05:39,  9.18s/it]"
          ]
        },
        {
          "output_type": "stream",
          "name": "stdout",
          "text": [
            "building 63 || best score : 0.026961850437049927 || alpha : 100\n"
          ]
        },
        {
          "output_type": "stream",
          "name": "stderr",
          "text": [
            "\r 64%|██████▍   | 64/100 [07:36<05:59,  9.99s/it]"
          ]
        },
        {
          "output_type": "stream",
          "name": "stdout",
          "text": [
            "building 64 || best score : 0.02287257516915706 || alpha : 75\n"
          ]
        },
        {
          "output_type": "stream",
          "name": "stderr",
          "text": [
            "\r 65%|██████▌   | 65/100 [07:43<05:20,  9.16s/it]"
          ]
        },
        {
          "output_type": "stream",
          "name": "stdout",
          "text": [
            "building 65 || best score : 0.031099815493183223 || alpha : 100\n"
          ]
        },
        {
          "output_type": "stream",
          "name": "stderr",
          "text": [
            "\r 66%|██████▌   | 66/100 [07:51<04:59,  8.80s/it]"
          ]
        },
        {
          "output_type": "stream",
          "name": "stdout",
          "text": [
            "building 66 || best score : 0.01658649493281905 || alpha : 100\n"
          ]
        },
        {
          "output_type": "stream",
          "name": "stderr",
          "text": [
            "\r 67%|██████▋   | 67/100 [07:55<04:09,  7.57s/it]"
          ]
        },
        {
          "output_type": "stream",
          "name": "stdout",
          "text": [
            "building 67 || best score : 0.02540709986025459 || alpha : 100\n"
          ]
        },
        {
          "output_type": "stream",
          "name": "stderr",
          "text": [
            "\r 68%|██████▊   | 68/100 [08:04<04:08,  7.78s/it]"
          ]
        },
        {
          "output_type": "stream",
          "name": "stdout",
          "text": [
            "building 68 || best score : 0.02421263143116482 || alpha : 100\n"
          ]
        },
        {
          "output_type": "stream",
          "name": "stderr",
          "text": [
            "\r 69%|██████▉   | 69/100 [08:08<03:31,  6.82s/it]"
          ]
        },
        {
          "output_type": "stream",
          "name": "stdout",
          "text": [
            "building 69 || best score : 0.018951802015803813 || alpha : 100\n"
          ]
        },
        {
          "output_type": "stream",
          "name": "stderr",
          "text": [
            "\r 70%|███████   | 70/100 [08:17<03:37,  7.25s/it]"
          ]
        },
        {
          "output_type": "stream",
          "name": "stdout",
          "text": [
            "building 70 || best score : 0.01869771014482134 || alpha : 100\n"
          ]
        },
        {
          "output_type": "stream",
          "name": "stderr",
          "text": [
            "\r 71%|███████   | 71/100 [08:21<03:07,  6.46s/it]"
          ]
        },
        {
          "output_type": "stream",
          "name": "stdout",
          "text": [
            "building 71 || best score : 0.019696710741999277 || alpha : 100\n"
          ]
        },
        {
          "output_type": "stream",
          "name": "stderr",
          "text": [
            "\r 72%|███████▏  | 72/100 [08:29<03:12,  6.88s/it]"
          ]
        },
        {
          "output_type": "stream",
          "name": "stdout",
          "text": [
            "building 72 || best score : 0.018632436898357148 || alpha : 100\n"
          ]
        },
        {
          "output_type": "stream",
          "name": "stderr",
          "text": [
            "\r 73%|███████▎  | 73/100 [08:33<02:46,  6.15s/it]"
          ]
        },
        {
          "output_type": "stream",
          "name": "stdout",
          "text": [
            "building 73 || best score : 0.018673758803065016 || alpha : 75\n"
          ]
        },
        {
          "output_type": "stream",
          "name": "stderr",
          "text": [
            "\r 74%|███████▍  | 74/100 [08:38<02:29,  5.75s/it]"
          ]
        },
        {
          "output_type": "stream",
          "name": "stdout",
          "text": [
            "building 74 || best score : 0.023522533205848052 || alpha : 100\n"
          ]
        },
        {
          "output_type": "stream",
          "name": "stderr",
          "text": [
            "\r 75%|███████▌  | 75/100 [08:46<02:42,  6.48s/it]"
          ]
        },
        {
          "output_type": "stream",
          "name": "stdout",
          "text": [
            "building 75 || best score : 0.019653284398481217 || alpha : 50\n"
          ]
        },
        {
          "output_type": "stream",
          "name": "stderr",
          "text": [
            "\r 76%|███████▌  | 76/100 [08:51<02:21,  5.90s/it]"
          ]
        },
        {
          "output_type": "stream",
          "name": "stdout",
          "text": [
            "building 76 || best score : 0.019096742369890108 || alpha : 100\n"
          ]
        },
        {
          "output_type": "stream",
          "name": "stderr",
          "text": [
            "\r 77%|███████▋  | 77/100 [08:59<02:30,  6.56s/it]"
          ]
        },
        {
          "output_type": "stream",
          "name": "stdout",
          "text": [
            "building 77 || best score : 0.020480999704880338 || alpha : 100\n"
          ]
        },
        {
          "output_type": "stream",
          "name": "stderr",
          "text": [
            "\r 78%|███████▊  | 78/100 [09:04<02:12,  6.03s/it]"
          ]
        },
        {
          "output_type": "stream",
          "name": "stdout",
          "text": [
            "building 78 || best score : 0.025310302138874936 || alpha : 100\n"
          ]
        },
        {
          "output_type": "stream",
          "name": "stderr",
          "text": [
            "\r 79%|███████▉  | 79/100 [09:12<02:21,  6.72s/it]"
          ]
        },
        {
          "output_type": "stream",
          "name": "stdout",
          "text": [
            "building 79 || best score : 0.02046263781825583 || alpha : 100\n"
          ]
        },
        {
          "output_type": "stream",
          "name": "stderr",
          "text": [
            "\r 80%|████████  | 80/100 [09:17<02:04,  6.20s/it]"
          ]
        },
        {
          "output_type": "stream",
          "name": "stdout",
          "text": [
            "building 80 || best score : 0.028653317347168146 || alpha : 100\n"
          ]
        },
        {
          "output_type": "stream",
          "name": "stderr",
          "text": [
            "\r 81%|████████  | 81/100 [09:25<02:09,  6.81s/it]"
          ]
        },
        {
          "output_type": "stream",
          "name": "stdout",
          "text": [
            "building 81 || best score : 0.03110261733023183 || alpha : 75\n"
          ]
        },
        {
          "output_type": "stream",
          "name": "stderr",
          "text": [
            "\r 82%|████████▏ | 82/100 [09:31<01:55,  6.40s/it]"
          ]
        },
        {
          "output_type": "stream",
          "name": "stdout",
          "text": [
            "building 82 || best score : 0.03314364096903938 || alpha : 100\n"
          ]
        },
        {
          "output_type": "stream",
          "name": "stderr",
          "text": [
            "\r 83%|████████▎ | 83/100 [09:39<01:58,  7.00s/it]"
          ]
        },
        {
          "output_type": "stream",
          "name": "stdout",
          "text": [
            "building 83 || best score : 0.032478452369399564 || alpha : 75\n"
          ]
        },
        {
          "output_type": "stream",
          "name": "stderr",
          "text": [
            "\r 84%|████████▍ | 84/100 [09:44<01:41,  6.34s/it]"
          ]
        },
        {
          "output_type": "stream",
          "name": "stdout",
          "text": [
            "building 84 || best score : 0.032426401661927326 || alpha : 100\n"
          ]
        },
        {
          "output_type": "stream",
          "name": "stderr",
          "text": [
            "\r 85%|████████▌ | 85/100 [09:55<01:57,  7.85s/it]"
          ]
        },
        {
          "output_type": "stream",
          "name": "stdout",
          "text": [
            "building 85 || best score : 0.01651348712015852 || alpha : 75\n"
          ]
        },
        {
          "output_type": "stream",
          "name": "stderr",
          "text": [
            "\r 86%|████████▌ | 86/100 [10:00<01:37,  6.93s/it]"
          ]
        },
        {
          "output_type": "stream",
          "name": "stdout",
          "text": [
            "building 86 || best score : 0.027775817803769785 || alpha : 100\n"
          ]
        },
        {
          "output_type": "stream",
          "name": "stderr",
          "text": [
            "\r 87%|████████▋ | 87/100 [10:09<01:38,  7.55s/it]"
          ]
        },
        {
          "output_type": "stream",
          "name": "stdout",
          "text": [
            "building 87 || best score : 0.03640516085713437 || alpha : 100\n"
          ]
        },
        {
          "output_type": "stream",
          "name": "stderr",
          "text": [
            "\r 88%|████████▊ | 88/100 [10:14<01:20,  6.72s/it]"
          ]
        },
        {
          "output_type": "stream",
          "name": "stdout",
          "text": [
            "building 88 || best score : 0.02555342364594687 || alpha : 100\n"
          ]
        },
        {
          "output_type": "stream",
          "name": "stderr",
          "text": [
            "\r 89%|████████▉ | 89/100 [10:22<01:18,  7.18s/it]"
          ]
        },
        {
          "output_type": "stream",
          "name": "stdout",
          "text": [
            "building 89 || best score : 0.025558920501924005 || alpha : 75\n"
          ]
        },
        {
          "output_type": "stream",
          "name": "stderr",
          "text": [
            "\r 90%|█████████ | 90/100 [10:28<01:06,  6.70s/it]"
          ]
        },
        {
          "output_type": "stream",
          "name": "stdout",
          "text": [
            "building 90 || best score : 0.03092276125897425 || alpha : 100\n"
          ]
        },
        {
          "output_type": "stream",
          "name": "stderr",
          "text": [
            "\r 91%|█████████ | 91/100 [10:36<01:04,  7.18s/it]"
          ]
        },
        {
          "output_type": "stream",
          "name": "stdout",
          "text": [
            "building 91 || best score : 0.032509978754613304 || alpha : 100\n"
          ]
        },
        {
          "output_type": "stream",
          "name": "stderr",
          "text": [
            "\r 92%|█████████▏| 92/100 [10:41<00:51,  6.45s/it]"
          ]
        },
        {
          "output_type": "stream",
          "name": "stdout",
          "text": [
            "building 92 || best score : 0.03017289991011336 || alpha : 75\n"
          ]
        },
        {
          "output_type": "stream",
          "name": "stderr",
          "text": [
            "\r 93%|█████████▎| 93/100 [10:49<00:48,  6.93s/it]"
          ]
        },
        {
          "output_type": "stream",
          "name": "stdout",
          "text": [
            "building 93 || best score : 0.01900120318375487 || alpha : 75\n"
          ]
        },
        {
          "output_type": "stream",
          "name": "stderr",
          "text": [
            "\r 94%|█████████▍| 94/100 [10:54<00:38,  6.40s/it]"
          ]
        },
        {
          "output_type": "stream",
          "name": "stdout",
          "text": [
            "building 94 || best score : 0.03584938619790484 || alpha : 100\n"
          ]
        },
        {
          "output_type": "stream",
          "name": "stderr",
          "text": [
            "\r 95%|█████████▌| 95/100 [11:07<00:41,  8.28s/it]"
          ]
        },
        {
          "output_type": "stream",
          "name": "stdout",
          "text": [
            "building 95 || best score : 0.023301545764485856 || alpha : 100\n"
          ]
        },
        {
          "output_type": "stream",
          "name": "stderr",
          "text": [
            "\r 96%|█████████▌| 96/100 [11:12<00:28,  7.23s/it]"
          ]
        },
        {
          "output_type": "stream",
          "name": "stdout",
          "text": [
            "building 96 || best score : 0.018465172447915457 || alpha : 100\n"
          ]
        },
        {
          "output_type": "stream",
          "name": "stderr",
          "text": [
            "\r 97%|█████████▋| 97/100 [11:22<00:24,  8.12s/it]"
          ]
        },
        {
          "output_type": "stream",
          "name": "stdout",
          "text": [
            "building 97 || best score : 0.024020304177918585 || alpha : 75\n"
          ]
        },
        {
          "output_type": "stream",
          "name": "stderr",
          "text": [
            "\r 98%|█████████▊| 98/100 [11:33<00:18,  9.20s/it]"
          ]
        },
        {
          "output_type": "stream",
          "name": "stdout",
          "text": [
            "building 98 || best score : 0.03578518664358602 || alpha : 100\n"
          ]
        },
        {
          "output_type": "stream",
          "name": "stderr",
          "text": [
            "\r 99%|█████████▉| 99/100 [11:41<00:08,  8.79s/it]"
          ]
        },
        {
          "output_type": "stream",
          "name": "stdout",
          "text": [
            "building 99 || best score : 0.024052575725348888 || alpha : 75\n"
          ]
        },
        {
          "output_type": "stream",
          "name": "stderr",
          "text": [
            "100%|██████████| 100/100 [11:52<00:00,  7.13s/it]"
          ]
        },
        {
          "output_type": "stream",
          "name": "stdout",
          "text": [
            "building 100 || best score : 0.027790464102279727 || alpha : 100\n"
          ]
        },
        {
          "output_type": "stream",
          "name": "stderr",
          "text": [
            "\n"
          ]
        }
      ]
    },
    {
      "cell_type": "code",
      "source": [
        "#seed별로 예측값이 바뀌니까 seed 0부터 6까지 평균내서\n",
        "preds = np.array([])\n",
        "for i in tqdm(range(100)):\n",
        "\n",
        "    pred_df = pd.DataFrame()   # 시드별 예측값을 담을 data frame\n",
        "\n",
        "    for seed in [0,1,2,3,4,5]: # 각 시드별 예측\n",
        "        y_train = train.loc[train.num == i+1, 'power']\n",
        "        x_train, x_test = train.loc[train.num == i+1, ].iloc[:, 3:], test.loc[test.num == i+1, ].iloc[:,1:]\n",
        "        #x_test['power'] = 0 ####여기 이상 ..\n",
        "        x_test = x_test[x_train.columns]\n",
        "        '''\n",
        "        xgb = XGBRegressor(seed = seed, n_estimators = best_it[i], eta = 0.01,\n",
        "                           min_child_weight = xgb_params.iloc[i, 2], max_depth = xgb_params.iloc[i, 3],\n",
        "                           colsample_bytree=xgb_params.iloc[i, 4], subsample=xgb_params.iloc[i, 5])\n",
        "                           '''\n",
        "        xgb = xgboost.XGBRegressor(n_estimators=100, learning_rate=0.08, gamma=0, subsample=0.75,\n",
        "                           colsample_bytree=1, max_depth=7)\n",
        "        '''\n",
        "        if xgb_params.iloc[i,6] != 0:  # 만약 alpha가 0이 아니면 weighted_mse 사용\n",
        "            xgb.set_params(**{'objective':weighted_mse(xgb_params.iloc[i,6])})\n",
        "        '''\n",
        "        xgb.fit(x_train, y_train)\n",
        "        y_pred = xgb.predict(x_test)\n",
        "        pred_df.loc[:,seed] = y_pred   # 각 시드별 예측 담기\n",
        "\n",
        "    pred = pred_df.mean(axis=1)        # (i+1)번째 건물의 예측 =  (i+1)번째 건물의 각 시드별 예측 평균값\n",
        "    preds = np.append(preds, pred)"
      ],
      "metadata": {
        "colab": {
          "base_uri": "https://localhost:8080/"
        },
        "id": "Hds2m-Z49g5w",
        "outputId": "4ea2d1b7-9e17-482d-d7ea-64c60d2e9f0a"
      },
      "execution_count": 48,
      "outputs": [
        {
          "output_type": "stream",
          "name": "stderr",
          "text": [
            "100%|██████████| 100/100 [04:35<00:00,  2.76s/it]\n"
          ]
        }
      ]
    },
    {
      "cell_type": "code",
      "source": [
        "submission = pd.read_csv('/content/drive/MyDrive/23energy/23data/sample_submission.csv')\n",
        "submission['answer'] = preds\n",
        "submission.to_csv('submission_xgb_0815.csv', index = False)"
      ],
      "metadata": {
        "id": "a8dB0_f-DNII"
      },
      "execution_count": 49,
      "outputs": []
    },
    {
      "cell_type": "code",
      "source": [
        "y_train = train.loc[train.num == 1, 'power']\n",
        "x_train, x_test = train.loc[train.num == i+1, ].iloc[:, 3:], test.loc[test.num == i+1, ].iloc[:,1:]"
      ],
      "metadata": {
        "id": "XOYy5BeTCINy"
      },
      "execution_count": 50,
      "outputs": []
    },
    {
      "cell_type": "code",
      "source": [
        "train"
      ],
      "metadata": {
        "colab": {
          "base_uri": "https://localhost:8080/",
          "height": 483
        },
        "id": "StuNec_mGGt9",
        "outputId": "8d50368b-0e42-41ab-e87a-00e83f4e1087"
      },
      "execution_count": 51,
      "outputs": [
        {
          "output_type": "execute_result",
          "data": {
            "text/plain": [
              "        num  gion  wind   hum    power  type  total_area  cooling_area  month  \\\n",
              "0         1  18.6   0.9  42.0  1085.28     0   110634.00      39570.00      6   \n",
              "1         1  18.0   1.1  45.0  1047.36     0   110634.00      39570.00      6   \n",
              "2         1  17.7   1.5  45.0   974.88     0   110634.00      39570.00      6   \n",
              "3         1  16.7   1.4  48.0   953.76     0   110634.00      39570.00      6   \n",
              "4         1  18.4   2.8  43.0   986.40     0   110634.00      39570.00      6   \n",
              "...     ...   ...   ...   ...      ...   ...         ...           ...    ...   \n",
              "203995  100  23.1   0.9  86.0   881.04    11    57497.84      40035.23      8   \n",
              "203996  100  22.4   1.3  86.0   798.96    11    57497.84      40035.23      8   \n",
              "203997  100  21.3   1.0  92.0   825.12    11    57497.84      40035.23      8   \n",
              "203998  100  21.0   0.3  94.0   640.08    11    57497.84      40035.23      8   \n",
              "203999  100  20.7   0.1  95.0   540.24    11    57497.84      40035.23      8   \n",
              "\n",
              "        day  weekday  dayofyear  holiday  sensory_temp  sin_time  cos_time  \\\n",
              "0         1        2        152      1.0     20.751584  0.000000  1.000000   \n",
              "1         1        2        152      1.0     20.008954  0.258819  0.965926   \n",
              "2         1        2        152      1.0     19.476910  0.500000  0.866025   \n",
              "3         1        2        152      1.0     18.487958  0.707107  0.707107   \n",
              "4         1        2        152      1.0     19.751534  0.866025  0.500000   \n",
              "...     ...      ...        ...      ...           ...       ...       ...   \n",
              "203995   24        2        236      0.0     25.302757 -0.965926  0.258819   \n",
              "203996   24        2        236      0.0     24.446518 -0.866025  0.500000   \n",
              "203997   24        2        236      0.0     23.433400 -0.707107  0.707107   \n",
              "203998   24        2        236      0.0     23.661275 -0.500000  0.866025   \n",
              "203999   24        2        236      0.0     23.797169 -0.258819  0.965926   \n",
              "\n",
              "            THI   CDH  \n",
              "0       49.6576  -7.4  \n",
              "1       47.7625 -15.4  \n",
              "2       47.2225 -23.7  \n",
              "3       44.7856 -33.0  \n",
              "4       49.0061 -40.6  \n",
              "...         ...   ...  \n",
              "203995  63.6624 -19.6  \n",
              "203996  62.4024 -20.2  \n",
              "203997  64.1976 -22.3  \n",
              "203998  65.0744 -25.1  \n",
              "203999  65.2725 -28.1  \n",
              "\n",
              "[204000 rows x 18 columns]"
            ],
            "text/html": [
              "\n",
              "\n",
              "  <div id=\"df-8ce44f4f-aa63-4af6-ad7d-25e228ef4463\">\n",
              "    <div class=\"colab-df-container\">\n",
              "      <div>\n",
              "<style scoped>\n",
              "    .dataframe tbody tr th:only-of-type {\n",
              "        vertical-align: middle;\n",
              "    }\n",
              "\n",
              "    .dataframe tbody tr th {\n",
              "        vertical-align: top;\n",
              "    }\n",
              "\n",
              "    .dataframe thead th {\n",
              "        text-align: right;\n",
              "    }\n",
              "</style>\n",
              "<table border=\"1\" class=\"dataframe\">\n",
              "  <thead>\n",
              "    <tr style=\"text-align: right;\">\n",
              "      <th></th>\n",
              "      <th>num</th>\n",
              "      <th>gion</th>\n",
              "      <th>wind</th>\n",
              "      <th>hum</th>\n",
              "      <th>power</th>\n",
              "      <th>type</th>\n",
              "      <th>total_area</th>\n",
              "      <th>cooling_area</th>\n",
              "      <th>month</th>\n",
              "      <th>day</th>\n",
              "      <th>weekday</th>\n",
              "      <th>dayofyear</th>\n",
              "      <th>holiday</th>\n",
              "      <th>sensory_temp</th>\n",
              "      <th>sin_time</th>\n",
              "      <th>cos_time</th>\n",
              "      <th>THI</th>\n",
              "      <th>CDH</th>\n",
              "    </tr>\n",
              "  </thead>\n",
              "  <tbody>\n",
              "    <tr>\n",
              "      <th>0</th>\n",
              "      <td>1</td>\n",
              "      <td>18.6</td>\n",
              "      <td>0.9</td>\n",
              "      <td>42.0</td>\n",
              "      <td>1085.28</td>\n",
              "      <td>0</td>\n",
              "      <td>110634.00</td>\n",
              "      <td>39570.00</td>\n",
              "      <td>6</td>\n",
              "      <td>1</td>\n",
              "      <td>2</td>\n",
              "      <td>152</td>\n",
              "      <td>1.0</td>\n",
              "      <td>20.751584</td>\n",
              "      <td>0.000000</td>\n",
              "      <td>1.000000</td>\n",
              "      <td>49.6576</td>\n",
              "      <td>-7.4</td>\n",
              "    </tr>\n",
              "    <tr>\n",
              "      <th>1</th>\n",
              "      <td>1</td>\n",
              "      <td>18.0</td>\n",
              "      <td>1.1</td>\n",
              "      <td>45.0</td>\n",
              "      <td>1047.36</td>\n",
              "      <td>0</td>\n",
              "      <td>110634.00</td>\n",
              "      <td>39570.00</td>\n",
              "      <td>6</td>\n",
              "      <td>1</td>\n",
              "      <td>2</td>\n",
              "      <td>152</td>\n",
              "      <td>1.0</td>\n",
              "      <td>20.008954</td>\n",
              "      <td>0.258819</td>\n",
              "      <td>0.965926</td>\n",
              "      <td>47.7625</td>\n",
              "      <td>-15.4</td>\n",
              "    </tr>\n",
              "    <tr>\n",
              "      <th>2</th>\n",
              "      <td>1</td>\n",
              "      <td>17.7</td>\n",
              "      <td>1.5</td>\n",
              "      <td>45.0</td>\n",
              "      <td>974.88</td>\n",
              "      <td>0</td>\n",
              "      <td>110634.00</td>\n",
              "      <td>39570.00</td>\n",
              "      <td>6</td>\n",
              "      <td>1</td>\n",
              "      <td>2</td>\n",
              "      <td>152</td>\n",
              "      <td>1.0</td>\n",
              "      <td>19.476910</td>\n",
              "      <td>0.500000</td>\n",
              "      <td>0.866025</td>\n",
              "      <td>47.2225</td>\n",
              "      <td>-23.7</td>\n",
              "    </tr>\n",
              "    <tr>\n",
              "      <th>3</th>\n",
              "      <td>1</td>\n",
              "      <td>16.7</td>\n",
              "      <td>1.4</td>\n",
              "      <td>48.0</td>\n",
              "      <td>953.76</td>\n",
              "      <td>0</td>\n",
              "      <td>110634.00</td>\n",
              "      <td>39570.00</td>\n",
              "      <td>6</td>\n",
              "      <td>1</td>\n",
              "      <td>2</td>\n",
              "      <td>152</td>\n",
              "      <td>1.0</td>\n",
              "      <td>18.487958</td>\n",
              "      <td>0.707107</td>\n",
              "      <td>0.707107</td>\n",
              "      <td>44.7856</td>\n",
              "      <td>-33.0</td>\n",
              "    </tr>\n",
              "    <tr>\n",
              "      <th>4</th>\n",
              "      <td>1</td>\n",
              "      <td>18.4</td>\n",
              "      <td>2.8</td>\n",
              "      <td>43.0</td>\n",
              "      <td>986.40</td>\n",
              "      <td>0</td>\n",
              "      <td>110634.00</td>\n",
              "      <td>39570.00</td>\n",
              "      <td>6</td>\n",
              "      <td>1</td>\n",
              "      <td>2</td>\n",
              "      <td>152</td>\n",
              "      <td>1.0</td>\n",
              "      <td>19.751534</td>\n",
              "      <td>0.866025</td>\n",
              "      <td>0.500000</td>\n",
              "      <td>49.0061</td>\n",
              "      <td>-40.6</td>\n",
              "    </tr>\n",
              "    <tr>\n",
              "      <th>...</th>\n",
              "      <td>...</td>\n",
              "      <td>...</td>\n",
              "      <td>...</td>\n",
              "      <td>...</td>\n",
              "      <td>...</td>\n",
              "      <td>...</td>\n",
              "      <td>...</td>\n",
              "      <td>...</td>\n",
              "      <td>...</td>\n",
              "      <td>...</td>\n",
              "      <td>...</td>\n",
              "      <td>...</td>\n",
              "      <td>...</td>\n",
              "      <td>...</td>\n",
              "      <td>...</td>\n",
              "      <td>...</td>\n",
              "      <td>...</td>\n",
              "      <td>...</td>\n",
              "    </tr>\n",
              "    <tr>\n",
              "      <th>203995</th>\n",
              "      <td>100</td>\n",
              "      <td>23.1</td>\n",
              "      <td>0.9</td>\n",
              "      <td>86.0</td>\n",
              "      <td>881.04</td>\n",
              "      <td>11</td>\n",
              "      <td>57497.84</td>\n",
              "      <td>40035.23</td>\n",
              "      <td>8</td>\n",
              "      <td>24</td>\n",
              "      <td>2</td>\n",
              "      <td>236</td>\n",
              "      <td>0.0</td>\n",
              "      <td>25.302757</td>\n",
              "      <td>-0.965926</td>\n",
              "      <td>0.258819</td>\n",
              "      <td>63.6624</td>\n",
              "      <td>-19.6</td>\n",
              "    </tr>\n",
              "    <tr>\n",
              "      <th>203996</th>\n",
              "      <td>100</td>\n",
              "      <td>22.4</td>\n",
              "      <td>1.3</td>\n",
              "      <td>86.0</td>\n",
              "      <td>798.96</td>\n",
              "      <td>11</td>\n",
              "      <td>57497.84</td>\n",
              "      <td>40035.23</td>\n",
              "      <td>8</td>\n",
              "      <td>24</td>\n",
              "      <td>2</td>\n",
              "      <td>236</td>\n",
              "      <td>0.0</td>\n",
              "      <td>24.446518</td>\n",
              "      <td>-0.866025</td>\n",
              "      <td>0.500000</td>\n",
              "      <td>62.4024</td>\n",
              "      <td>-20.2</td>\n",
              "    </tr>\n",
              "    <tr>\n",
              "      <th>203997</th>\n",
              "      <td>100</td>\n",
              "      <td>21.3</td>\n",
              "      <td>1.0</td>\n",
              "      <td>92.0</td>\n",
              "      <td>825.12</td>\n",
              "      <td>11</td>\n",
              "      <td>57497.84</td>\n",
              "      <td>40035.23</td>\n",
              "      <td>8</td>\n",
              "      <td>24</td>\n",
              "      <td>2</td>\n",
              "      <td>236</td>\n",
              "      <td>0.0</td>\n",
              "      <td>23.433400</td>\n",
              "      <td>-0.707107</td>\n",
              "      <td>0.707107</td>\n",
              "      <td>64.1976</td>\n",
              "      <td>-22.3</td>\n",
              "    </tr>\n",
              "    <tr>\n",
              "      <th>203998</th>\n",
              "      <td>100</td>\n",
              "      <td>21.0</td>\n",
              "      <td>0.3</td>\n",
              "      <td>94.0</td>\n",
              "      <td>640.08</td>\n",
              "      <td>11</td>\n",
              "      <td>57497.84</td>\n",
              "      <td>40035.23</td>\n",
              "      <td>8</td>\n",
              "      <td>24</td>\n",
              "      <td>2</td>\n",
              "      <td>236</td>\n",
              "      <td>0.0</td>\n",
              "      <td>23.661275</td>\n",
              "      <td>-0.500000</td>\n",
              "      <td>0.866025</td>\n",
              "      <td>65.0744</td>\n",
              "      <td>-25.1</td>\n",
              "    </tr>\n",
              "    <tr>\n",
              "      <th>203999</th>\n",
              "      <td>100</td>\n",
              "      <td>20.7</td>\n",
              "      <td>0.1</td>\n",
              "      <td>95.0</td>\n",
              "      <td>540.24</td>\n",
              "      <td>11</td>\n",
              "      <td>57497.84</td>\n",
              "      <td>40035.23</td>\n",
              "      <td>8</td>\n",
              "      <td>24</td>\n",
              "      <td>2</td>\n",
              "      <td>236</td>\n",
              "      <td>0.0</td>\n",
              "      <td>23.797169</td>\n",
              "      <td>-0.258819</td>\n",
              "      <td>0.965926</td>\n",
              "      <td>65.2725</td>\n",
              "      <td>-28.1</td>\n",
              "    </tr>\n",
              "  </tbody>\n",
              "</table>\n",
              "<p>204000 rows × 18 columns</p>\n",
              "</div>\n",
              "      <button class=\"colab-df-convert\" onclick=\"convertToInteractive('df-8ce44f4f-aa63-4af6-ad7d-25e228ef4463')\"\n",
              "              title=\"Convert this dataframe to an interactive table.\"\n",
              "              style=\"display:none;\">\n",
              "\n",
              "  <svg xmlns=\"http://www.w3.org/2000/svg\" height=\"24px\"viewBox=\"0 0 24 24\"\n",
              "       width=\"24px\">\n",
              "    <path d=\"M0 0h24v24H0V0z\" fill=\"none\"/>\n",
              "    <path d=\"M18.56 5.44l.94 2.06.94-2.06 2.06-.94-2.06-.94-.94-2.06-.94 2.06-2.06.94zm-11 1L8.5 8.5l.94-2.06 2.06-.94-2.06-.94L8.5 2.5l-.94 2.06-2.06.94zm10 10l.94 2.06.94-2.06 2.06-.94-2.06-.94-.94-2.06-.94 2.06-2.06.94z\"/><path d=\"M17.41 7.96l-1.37-1.37c-.4-.4-.92-.59-1.43-.59-.52 0-1.04.2-1.43.59L10.3 9.45l-7.72 7.72c-.78.78-.78 2.05 0 2.83L4 21.41c.39.39.9.59 1.41.59.51 0 1.02-.2 1.41-.59l7.78-7.78 2.81-2.81c.8-.78.8-2.07 0-2.86zM5.41 20L4 18.59l7.72-7.72 1.47 1.35L5.41 20z\"/>\n",
              "  </svg>\n",
              "      </button>\n",
              "\n",
              "\n",
              "\n",
              "    <div id=\"df-e0a4931c-84bd-4e8a-aa90-357dbcdbf568\">\n",
              "      <button class=\"colab-df-quickchart\" onclick=\"quickchart('df-e0a4931c-84bd-4e8a-aa90-357dbcdbf568')\"\n",
              "              title=\"Suggest charts.\"\n",
              "              style=\"display:none;\">\n",
              "\n",
              "<svg xmlns=\"http://www.w3.org/2000/svg\" height=\"24px\"viewBox=\"0 0 24 24\"\n",
              "     width=\"24px\">\n",
              "    <g>\n",
              "        <path d=\"M19 3H5c-1.1 0-2 .9-2 2v14c0 1.1.9 2 2 2h14c1.1 0 2-.9 2-2V5c0-1.1-.9-2-2-2zM9 17H7v-7h2v7zm4 0h-2V7h2v10zm4 0h-2v-4h2v4z\"/>\n",
              "    </g>\n",
              "</svg>\n",
              "      </button>\n",
              "    </div>\n",
              "\n",
              "<style>\n",
              "  .colab-df-quickchart {\n",
              "    background-color: #E8F0FE;\n",
              "    border: none;\n",
              "    border-radius: 50%;\n",
              "    cursor: pointer;\n",
              "    display: none;\n",
              "    fill: #1967D2;\n",
              "    height: 32px;\n",
              "    padding: 0 0 0 0;\n",
              "    width: 32px;\n",
              "  }\n",
              "\n",
              "  .colab-df-quickchart:hover {\n",
              "    background-color: #E2EBFA;\n",
              "    box-shadow: 0px 1px 2px rgba(60, 64, 67, 0.3), 0px 1px 3px 1px rgba(60, 64, 67, 0.15);\n",
              "    fill: #174EA6;\n",
              "  }\n",
              "\n",
              "  [theme=dark] .colab-df-quickchart {\n",
              "    background-color: #3B4455;\n",
              "    fill: #D2E3FC;\n",
              "  }\n",
              "\n",
              "  [theme=dark] .colab-df-quickchart:hover {\n",
              "    background-color: #434B5C;\n",
              "    box-shadow: 0px 1px 3px 1px rgba(0, 0, 0, 0.15);\n",
              "    filter: drop-shadow(0px 1px 2px rgba(0, 0, 0, 0.3));\n",
              "    fill: #FFFFFF;\n",
              "  }\n",
              "</style>\n",
              "\n",
              "    <script>\n",
              "      async function quickchart(key) {\n",
              "        const containerElement = document.querySelector('#' + key);\n",
              "        const charts = await google.colab.kernel.invokeFunction(\n",
              "            'suggestCharts', [key], {});\n",
              "      }\n",
              "    </script>\n",
              "\n",
              "      <script>\n",
              "\n",
              "function displayQuickchartButton(domScope) {\n",
              "  let quickchartButtonEl =\n",
              "    domScope.querySelector('#df-e0a4931c-84bd-4e8a-aa90-357dbcdbf568 button.colab-df-quickchart');\n",
              "  quickchartButtonEl.style.display =\n",
              "    google.colab.kernel.accessAllowed ? 'block' : 'none';\n",
              "}\n",
              "\n",
              "        displayQuickchartButton(document);\n",
              "      </script>\n",
              "      <style>\n",
              "    .colab-df-container {\n",
              "      display:flex;\n",
              "      flex-wrap:wrap;\n",
              "      gap: 12px;\n",
              "    }\n",
              "\n",
              "    .colab-df-convert {\n",
              "      background-color: #E8F0FE;\n",
              "      border: none;\n",
              "      border-radius: 50%;\n",
              "      cursor: pointer;\n",
              "      display: none;\n",
              "      fill: #1967D2;\n",
              "      height: 32px;\n",
              "      padding: 0 0 0 0;\n",
              "      width: 32px;\n",
              "    }\n",
              "\n",
              "    .colab-df-convert:hover {\n",
              "      background-color: #E2EBFA;\n",
              "      box-shadow: 0px 1px 2px rgba(60, 64, 67, 0.3), 0px 1px 3px 1px rgba(60, 64, 67, 0.15);\n",
              "      fill: #174EA6;\n",
              "    }\n",
              "\n",
              "    [theme=dark] .colab-df-convert {\n",
              "      background-color: #3B4455;\n",
              "      fill: #D2E3FC;\n",
              "    }\n",
              "\n",
              "    [theme=dark] .colab-df-convert:hover {\n",
              "      background-color: #434B5C;\n",
              "      box-shadow: 0px 1px 3px 1px rgba(0, 0, 0, 0.15);\n",
              "      filter: drop-shadow(0px 1px 2px rgba(0, 0, 0, 0.3));\n",
              "      fill: #FFFFFF;\n",
              "    }\n",
              "  </style>\n",
              "\n",
              "      <script>\n",
              "        const buttonEl =\n",
              "          document.querySelector('#df-8ce44f4f-aa63-4af6-ad7d-25e228ef4463 button.colab-df-convert');\n",
              "        buttonEl.style.display =\n",
              "          google.colab.kernel.accessAllowed ? 'block' : 'none';\n",
              "\n",
              "        async function convertToInteractive(key) {\n",
              "          const element = document.querySelector('#df-8ce44f4f-aa63-4af6-ad7d-25e228ef4463');\n",
              "          const dataTable =\n",
              "            await google.colab.kernel.invokeFunction('convertToInteractive',\n",
              "                                                     [key], {});\n",
              "          if (!dataTable) return;\n",
              "\n",
              "          const docLinkHtml = 'Like what you see? Visit the ' +\n",
              "            '<a target=\"_blank\" href=https://colab.research.google.com/notebooks/data_table.ipynb>data table notebook</a>'\n",
              "            + ' to learn more about interactive tables.';\n",
              "          element.innerHTML = '';\n",
              "          dataTable['output_type'] = 'display_data';\n",
              "          await google.colab.output.renderOutput(dataTable, element);\n",
              "          const docLink = document.createElement('div');\n",
              "          docLink.innerHTML = docLinkHtml;\n",
              "          element.appendChild(docLink);\n",
              "        }\n",
              "      </script>\n",
              "    </div>\n",
              "  </div>\n"
            ]
          },
          "metadata": {},
          "execution_count": 51
        }
      ]
    },
    {
      "cell_type": "code",
      "source": [
        "test"
      ],
      "metadata": {
        "colab": {
          "base_uri": "https://localhost:8080/",
          "height": 483
        },
        "id": "nJ7ABzL2GH-M",
        "outputId": "979818df-d453-4c47-cd1e-4bd5f63936f7"
      },
      "execution_count": 52,
      "outputs": [
        {
          "output_type": "execute_result",
          "data": {
            "text/plain": [
              "       num  gion  wind  hum  type  total_area  cooling_area  month  day  \\\n",
              "0        1  23.5   2.2   72     0   110634.00      39570.00      8   25   \n",
              "1        1  23.0   0.9   72     0   110634.00      39570.00      8   25   \n",
              "2        1  22.7   1.5   75     0   110634.00      39570.00      8   25   \n",
              "3        1  22.1   1.3   78     0   110634.00      39570.00      8   25   \n",
              "4        1  21.8   1.0   77     0   110634.00      39570.00      8   25   \n",
              "...    ...   ...   ...  ...   ...         ...           ...    ...  ...   \n",
              "16795  100  22.5   0.9   84    11    57497.84      40035.23      8   31   \n",
              "16796  100  20.7   0.4   95    11    57497.84      40035.23      8   31   \n",
              "16797  100  20.2   0.4   98    11    57497.84      40035.23      8   31   \n",
              "16798  100  20.1   1.1   97    11    57497.84      40035.23      8   31   \n",
              "16799  100  19.1   0.1   99    11    57497.84      40035.23      8   31   \n",
              "\n",
              "       weekday  dayofyear  holiday  sensory_temp  sin_time  cos_time      THI  \\\n",
              "0            3        237      0.0     25.397063  0.000000  1.000000  58.3456   \n",
              "1            3        237      0.0     25.201620  0.258819  0.965926  57.4456   \n",
              "2            3        237      0.0     24.699788  0.500000  0.866025  57.8725   \n",
              "3            3        237      0.0     24.136018  0.707107  0.707107  57.9376   \n",
              "4            3        237      0.0     23.942400  0.866025  0.500000  56.9961   \n",
              "...        ...        ...      ...           ...       ...       ...      ...   \n",
              "16795        2        243      0.0     24.695934 -0.965926  0.258819  61.4824   \n",
              "16796        2        243      0.0     23.253851 -0.866025  0.500000  65.2725   \n",
              "16797        2        243      0.0     22.771886 -0.707107  0.707107  66.7056   \n",
              "16798        2        243      0.0     22.159549 -0.500000  0.866025  65.7281   \n",
              "16799        2        243      0.0     22.363872 -0.258819  0.965926  65.5429   \n",
              "\n",
              "        CDH  \n",
              "0      -2.5  \n",
              "1      -5.5  \n",
              "2      -8.8  \n",
              "3     -12.7  \n",
              "4     -16.9  \n",
              "...     ...  \n",
              "16795 -34.5  \n",
              "16796 -34.4  \n",
              "16797 -35.3  \n",
              "16798 -36.8  \n",
              "16799 -40.2  \n",
              "\n",
              "[16800 rows x 17 columns]"
            ],
            "text/html": [
              "\n",
              "\n",
              "  <div id=\"df-10a29ce1-30f0-4d80-8d21-85ede8b83654\">\n",
              "    <div class=\"colab-df-container\">\n",
              "      <div>\n",
              "<style scoped>\n",
              "    .dataframe tbody tr th:only-of-type {\n",
              "        vertical-align: middle;\n",
              "    }\n",
              "\n",
              "    .dataframe tbody tr th {\n",
              "        vertical-align: top;\n",
              "    }\n",
              "\n",
              "    .dataframe thead th {\n",
              "        text-align: right;\n",
              "    }\n",
              "</style>\n",
              "<table border=\"1\" class=\"dataframe\">\n",
              "  <thead>\n",
              "    <tr style=\"text-align: right;\">\n",
              "      <th></th>\n",
              "      <th>num</th>\n",
              "      <th>gion</th>\n",
              "      <th>wind</th>\n",
              "      <th>hum</th>\n",
              "      <th>type</th>\n",
              "      <th>total_area</th>\n",
              "      <th>cooling_area</th>\n",
              "      <th>month</th>\n",
              "      <th>day</th>\n",
              "      <th>weekday</th>\n",
              "      <th>dayofyear</th>\n",
              "      <th>holiday</th>\n",
              "      <th>sensory_temp</th>\n",
              "      <th>sin_time</th>\n",
              "      <th>cos_time</th>\n",
              "      <th>THI</th>\n",
              "      <th>CDH</th>\n",
              "    </tr>\n",
              "  </thead>\n",
              "  <tbody>\n",
              "    <tr>\n",
              "      <th>0</th>\n",
              "      <td>1</td>\n",
              "      <td>23.5</td>\n",
              "      <td>2.2</td>\n",
              "      <td>72</td>\n",
              "      <td>0</td>\n",
              "      <td>110634.00</td>\n",
              "      <td>39570.00</td>\n",
              "      <td>8</td>\n",
              "      <td>25</td>\n",
              "      <td>3</td>\n",
              "      <td>237</td>\n",
              "      <td>0.0</td>\n",
              "      <td>25.397063</td>\n",
              "      <td>0.000000</td>\n",
              "      <td>1.000000</td>\n",
              "      <td>58.3456</td>\n",
              "      <td>-2.5</td>\n",
              "    </tr>\n",
              "    <tr>\n",
              "      <th>1</th>\n",
              "      <td>1</td>\n",
              "      <td>23.0</td>\n",
              "      <td>0.9</td>\n",
              "      <td>72</td>\n",
              "      <td>0</td>\n",
              "      <td>110634.00</td>\n",
              "      <td>39570.00</td>\n",
              "      <td>8</td>\n",
              "      <td>25</td>\n",
              "      <td>3</td>\n",
              "      <td>237</td>\n",
              "      <td>0.0</td>\n",
              "      <td>25.201620</td>\n",
              "      <td>0.258819</td>\n",
              "      <td>0.965926</td>\n",
              "      <td>57.4456</td>\n",
              "      <td>-5.5</td>\n",
              "    </tr>\n",
              "    <tr>\n",
              "      <th>2</th>\n",
              "      <td>1</td>\n",
              "      <td>22.7</td>\n",
              "      <td>1.5</td>\n",
              "      <td>75</td>\n",
              "      <td>0</td>\n",
              "      <td>110634.00</td>\n",
              "      <td>39570.00</td>\n",
              "      <td>8</td>\n",
              "      <td>25</td>\n",
              "      <td>3</td>\n",
              "      <td>237</td>\n",
              "      <td>0.0</td>\n",
              "      <td>24.699788</td>\n",
              "      <td>0.500000</td>\n",
              "      <td>0.866025</td>\n",
              "      <td>57.8725</td>\n",
              "      <td>-8.8</td>\n",
              "    </tr>\n",
              "    <tr>\n",
              "      <th>3</th>\n",
              "      <td>1</td>\n",
              "      <td>22.1</td>\n",
              "      <td>1.3</td>\n",
              "      <td>78</td>\n",
              "      <td>0</td>\n",
              "      <td>110634.00</td>\n",
              "      <td>39570.00</td>\n",
              "      <td>8</td>\n",
              "      <td>25</td>\n",
              "      <td>3</td>\n",
              "      <td>237</td>\n",
              "      <td>0.0</td>\n",
              "      <td>24.136018</td>\n",
              "      <td>0.707107</td>\n",
              "      <td>0.707107</td>\n",
              "      <td>57.9376</td>\n",
              "      <td>-12.7</td>\n",
              "    </tr>\n",
              "    <tr>\n",
              "      <th>4</th>\n",
              "      <td>1</td>\n",
              "      <td>21.8</td>\n",
              "      <td>1.0</td>\n",
              "      <td>77</td>\n",
              "      <td>0</td>\n",
              "      <td>110634.00</td>\n",
              "      <td>39570.00</td>\n",
              "      <td>8</td>\n",
              "      <td>25</td>\n",
              "      <td>3</td>\n",
              "      <td>237</td>\n",
              "      <td>0.0</td>\n",
              "      <td>23.942400</td>\n",
              "      <td>0.866025</td>\n",
              "      <td>0.500000</td>\n",
              "      <td>56.9961</td>\n",
              "      <td>-16.9</td>\n",
              "    </tr>\n",
              "    <tr>\n",
              "      <th>...</th>\n",
              "      <td>...</td>\n",
              "      <td>...</td>\n",
              "      <td>...</td>\n",
              "      <td>...</td>\n",
              "      <td>...</td>\n",
              "      <td>...</td>\n",
              "      <td>...</td>\n",
              "      <td>...</td>\n",
              "      <td>...</td>\n",
              "      <td>...</td>\n",
              "      <td>...</td>\n",
              "      <td>...</td>\n",
              "      <td>...</td>\n",
              "      <td>...</td>\n",
              "      <td>...</td>\n",
              "      <td>...</td>\n",
              "      <td>...</td>\n",
              "    </tr>\n",
              "    <tr>\n",
              "      <th>16795</th>\n",
              "      <td>100</td>\n",
              "      <td>22.5</td>\n",
              "      <td>0.9</td>\n",
              "      <td>84</td>\n",
              "      <td>11</td>\n",
              "      <td>57497.84</td>\n",
              "      <td>40035.23</td>\n",
              "      <td>8</td>\n",
              "      <td>31</td>\n",
              "      <td>2</td>\n",
              "      <td>243</td>\n",
              "      <td>0.0</td>\n",
              "      <td>24.695934</td>\n",
              "      <td>-0.965926</td>\n",
              "      <td>0.258819</td>\n",
              "      <td>61.4824</td>\n",
              "      <td>-34.5</td>\n",
              "    </tr>\n",
              "    <tr>\n",
              "      <th>16796</th>\n",
              "      <td>100</td>\n",
              "      <td>20.7</td>\n",
              "      <td>0.4</td>\n",
              "      <td>95</td>\n",
              "      <td>11</td>\n",
              "      <td>57497.84</td>\n",
              "      <td>40035.23</td>\n",
              "      <td>8</td>\n",
              "      <td>31</td>\n",
              "      <td>2</td>\n",
              "      <td>243</td>\n",
              "      <td>0.0</td>\n",
              "      <td>23.253851</td>\n",
              "      <td>-0.866025</td>\n",
              "      <td>0.500000</td>\n",
              "      <td>65.2725</td>\n",
              "      <td>-34.4</td>\n",
              "    </tr>\n",
              "    <tr>\n",
              "      <th>16797</th>\n",
              "      <td>100</td>\n",
              "      <td>20.2</td>\n",
              "      <td>0.4</td>\n",
              "      <td>98</td>\n",
              "      <td>11</td>\n",
              "      <td>57497.84</td>\n",
              "      <td>40035.23</td>\n",
              "      <td>8</td>\n",
              "      <td>31</td>\n",
              "      <td>2</td>\n",
              "      <td>243</td>\n",
              "      <td>0.0</td>\n",
              "      <td>22.771886</td>\n",
              "      <td>-0.707107</td>\n",
              "      <td>0.707107</td>\n",
              "      <td>66.7056</td>\n",
              "      <td>-35.3</td>\n",
              "    </tr>\n",
              "    <tr>\n",
              "      <th>16798</th>\n",
              "      <td>100</td>\n",
              "      <td>20.1</td>\n",
              "      <td>1.1</td>\n",
              "      <td>97</td>\n",
              "      <td>11</td>\n",
              "      <td>57497.84</td>\n",
              "      <td>40035.23</td>\n",
              "      <td>8</td>\n",
              "      <td>31</td>\n",
              "      <td>2</td>\n",
              "      <td>243</td>\n",
              "      <td>0.0</td>\n",
              "      <td>22.159549</td>\n",
              "      <td>-0.500000</td>\n",
              "      <td>0.866025</td>\n",
              "      <td>65.7281</td>\n",
              "      <td>-36.8</td>\n",
              "    </tr>\n",
              "    <tr>\n",
              "      <th>16799</th>\n",
              "      <td>100</td>\n",
              "      <td>19.1</td>\n",
              "      <td>0.1</td>\n",
              "      <td>99</td>\n",
              "      <td>11</td>\n",
              "      <td>57497.84</td>\n",
              "      <td>40035.23</td>\n",
              "      <td>8</td>\n",
              "      <td>31</td>\n",
              "      <td>2</td>\n",
              "      <td>243</td>\n",
              "      <td>0.0</td>\n",
              "      <td>22.363872</td>\n",
              "      <td>-0.258819</td>\n",
              "      <td>0.965926</td>\n",
              "      <td>65.5429</td>\n",
              "      <td>-40.2</td>\n",
              "    </tr>\n",
              "  </tbody>\n",
              "</table>\n",
              "<p>16800 rows × 17 columns</p>\n",
              "</div>\n",
              "      <button class=\"colab-df-convert\" onclick=\"convertToInteractive('df-10a29ce1-30f0-4d80-8d21-85ede8b83654')\"\n",
              "              title=\"Convert this dataframe to an interactive table.\"\n",
              "              style=\"display:none;\">\n",
              "\n",
              "  <svg xmlns=\"http://www.w3.org/2000/svg\" height=\"24px\"viewBox=\"0 0 24 24\"\n",
              "       width=\"24px\">\n",
              "    <path d=\"M0 0h24v24H0V0z\" fill=\"none\"/>\n",
              "    <path d=\"M18.56 5.44l.94 2.06.94-2.06 2.06-.94-2.06-.94-.94-2.06-.94 2.06-2.06.94zm-11 1L8.5 8.5l.94-2.06 2.06-.94-2.06-.94L8.5 2.5l-.94 2.06-2.06.94zm10 10l.94 2.06.94-2.06 2.06-.94-2.06-.94-.94-2.06-.94 2.06-2.06.94z\"/><path d=\"M17.41 7.96l-1.37-1.37c-.4-.4-.92-.59-1.43-.59-.52 0-1.04.2-1.43.59L10.3 9.45l-7.72 7.72c-.78.78-.78 2.05 0 2.83L4 21.41c.39.39.9.59 1.41.59.51 0 1.02-.2 1.41-.59l7.78-7.78 2.81-2.81c.8-.78.8-2.07 0-2.86zM5.41 20L4 18.59l7.72-7.72 1.47 1.35L5.41 20z\"/>\n",
              "  </svg>\n",
              "      </button>\n",
              "\n",
              "\n",
              "\n",
              "    <div id=\"df-048c55c8-a106-4b64-8e1c-6ea15fb85618\">\n",
              "      <button class=\"colab-df-quickchart\" onclick=\"quickchart('df-048c55c8-a106-4b64-8e1c-6ea15fb85618')\"\n",
              "              title=\"Suggest charts.\"\n",
              "              style=\"display:none;\">\n",
              "\n",
              "<svg xmlns=\"http://www.w3.org/2000/svg\" height=\"24px\"viewBox=\"0 0 24 24\"\n",
              "     width=\"24px\">\n",
              "    <g>\n",
              "        <path d=\"M19 3H5c-1.1 0-2 .9-2 2v14c0 1.1.9 2 2 2h14c1.1 0 2-.9 2-2V5c0-1.1-.9-2-2-2zM9 17H7v-7h2v7zm4 0h-2V7h2v10zm4 0h-2v-4h2v4z\"/>\n",
              "    </g>\n",
              "</svg>\n",
              "      </button>\n",
              "    </div>\n",
              "\n",
              "<style>\n",
              "  .colab-df-quickchart {\n",
              "    background-color: #E8F0FE;\n",
              "    border: none;\n",
              "    border-radius: 50%;\n",
              "    cursor: pointer;\n",
              "    display: none;\n",
              "    fill: #1967D2;\n",
              "    height: 32px;\n",
              "    padding: 0 0 0 0;\n",
              "    width: 32px;\n",
              "  }\n",
              "\n",
              "  .colab-df-quickchart:hover {\n",
              "    background-color: #E2EBFA;\n",
              "    box-shadow: 0px 1px 2px rgba(60, 64, 67, 0.3), 0px 1px 3px 1px rgba(60, 64, 67, 0.15);\n",
              "    fill: #174EA6;\n",
              "  }\n",
              "\n",
              "  [theme=dark] .colab-df-quickchart {\n",
              "    background-color: #3B4455;\n",
              "    fill: #D2E3FC;\n",
              "  }\n",
              "\n",
              "  [theme=dark] .colab-df-quickchart:hover {\n",
              "    background-color: #434B5C;\n",
              "    box-shadow: 0px 1px 3px 1px rgba(0, 0, 0, 0.15);\n",
              "    filter: drop-shadow(0px 1px 2px rgba(0, 0, 0, 0.3));\n",
              "    fill: #FFFFFF;\n",
              "  }\n",
              "</style>\n",
              "\n",
              "    <script>\n",
              "      async function quickchart(key) {\n",
              "        const containerElement = document.querySelector('#' + key);\n",
              "        const charts = await google.colab.kernel.invokeFunction(\n",
              "            'suggestCharts', [key], {});\n",
              "      }\n",
              "    </script>\n",
              "\n",
              "      <script>\n",
              "\n",
              "function displayQuickchartButton(domScope) {\n",
              "  let quickchartButtonEl =\n",
              "    domScope.querySelector('#df-048c55c8-a106-4b64-8e1c-6ea15fb85618 button.colab-df-quickchart');\n",
              "  quickchartButtonEl.style.display =\n",
              "    google.colab.kernel.accessAllowed ? 'block' : 'none';\n",
              "}\n",
              "\n",
              "        displayQuickchartButton(document);\n",
              "      </script>\n",
              "      <style>\n",
              "    .colab-df-container {\n",
              "      display:flex;\n",
              "      flex-wrap:wrap;\n",
              "      gap: 12px;\n",
              "    }\n",
              "\n",
              "    .colab-df-convert {\n",
              "      background-color: #E8F0FE;\n",
              "      border: none;\n",
              "      border-radius: 50%;\n",
              "      cursor: pointer;\n",
              "      display: none;\n",
              "      fill: #1967D2;\n",
              "      height: 32px;\n",
              "      padding: 0 0 0 0;\n",
              "      width: 32px;\n",
              "    }\n",
              "\n",
              "    .colab-df-convert:hover {\n",
              "      background-color: #E2EBFA;\n",
              "      box-shadow: 0px 1px 2px rgba(60, 64, 67, 0.3), 0px 1px 3px 1px rgba(60, 64, 67, 0.15);\n",
              "      fill: #174EA6;\n",
              "    }\n",
              "\n",
              "    [theme=dark] .colab-df-convert {\n",
              "      background-color: #3B4455;\n",
              "      fill: #D2E3FC;\n",
              "    }\n",
              "\n",
              "    [theme=dark] .colab-df-convert:hover {\n",
              "      background-color: #434B5C;\n",
              "      box-shadow: 0px 1px 3px 1px rgba(0, 0, 0, 0.15);\n",
              "      filter: drop-shadow(0px 1px 2px rgba(0, 0, 0, 0.3));\n",
              "      fill: #FFFFFF;\n",
              "    }\n",
              "  </style>\n",
              "\n",
              "      <script>\n",
              "        const buttonEl =\n",
              "          document.querySelector('#df-10a29ce1-30f0-4d80-8d21-85ede8b83654 button.colab-df-convert');\n",
              "        buttonEl.style.display =\n",
              "          google.colab.kernel.accessAllowed ? 'block' : 'none';\n",
              "\n",
              "        async function convertToInteractive(key) {\n",
              "          const element = document.querySelector('#df-10a29ce1-30f0-4d80-8d21-85ede8b83654');\n",
              "          const dataTable =\n",
              "            await google.colab.kernel.invokeFunction('convertToInteractive',\n",
              "                                                     [key], {});\n",
              "          if (!dataTable) return;\n",
              "\n",
              "          const docLinkHtml = 'Like what you see? Visit the ' +\n",
              "            '<a target=\"_blank\" href=https://colab.research.google.com/notebooks/data_table.ipynb>data table notebook</a>'\n",
              "            + ' to learn more about interactive tables.';\n",
              "          element.innerHTML = '';\n",
              "          dataTable['output_type'] = 'display_data';\n",
              "          await google.colab.output.renderOutput(dataTable, element);\n",
              "          const docLink = document.createElement('div');\n",
              "          docLink.innerHTML = docLinkHtml;\n",
              "          element.appendChild(docLink);\n",
              "        }\n",
              "      </script>\n",
              "    </div>\n",
              "  </div>\n"
            ]
          },
          "metadata": {},
          "execution_count": 52
        }
      ]
    },
    {
      "cell_type": "code",
      "source": [],
      "metadata": {
        "id": "sAO96b1tGIXd"
      },
      "execution_count": null,
      "outputs": []
    }
  ]
}